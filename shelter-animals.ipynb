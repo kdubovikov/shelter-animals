{
 "cells": [
  {
   "cell_type": "code",
   "execution_count": 2,
   "metadata": {
    "collapsed": true
   },
   "outputs": [],
   "source": [
    "import pandas as pd\n",
    "import matplotlib as plt\n",
    "import numpy as np\n",
    "\n",
    "%matplotlib inline"
   ]
  },
  {
   "cell_type": "code",
   "execution_count": 3,
   "metadata": {
    "collapsed": false
   },
   "outputs": [],
   "source": [
    "train = pd.read_csv(\"./train.csv\")\n",
    "test = pd.read_csv(\"./test.csv\")"
   ]
  },
  {
   "cell_type": "code",
   "execution_count": 4,
   "metadata": {
    "collapsed": false
   },
   "outputs": [
    {
     "data": {
      "text/plain": [
       "OutcomeSubtype    50.925961\n",
       "Name              28.773991\n",
       "AgeuponOutcome     0.067343\n",
       "SexuponOutcome     0.003741\n",
       "Color              0.000000\n",
       "Breed              0.000000\n",
       "AnimalType         0.000000\n",
       "OutcomeType        0.000000\n",
       "DateTime           0.000000\n",
       "AnimalID           0.000000\n",
       "dtype: float64"
      ]
     },
     "execution_count": 4,
     "metadata": {},
     "output_type": "execute_result"
    }
   ],
   "source": [
    "empty_percent = train.apply(pd.isnull, axis = 0).sum() / train.shape[0] * 100\n",
    "empty_percent.sort_values(ascending=False)"
   ]
  },
  {
   "cell_type": "code",
   "execution_count": 5,
   "metadata": {
    "collapsed": false
   },
   "outputs": [
    {
     "name": "stderr",
     "output_type": "stream",
     "text": [
      "/home/kernelmode/anaconda3/lib/python3.5/site-packages/pandas/core/indexing.py:420: SettingWithCopyWarning: \n",
      "A value is trying to be set on a copy of a slice from a DataFrame.\n",
      "Try using .loc[row_indexer,col_indexer] = value instead\n",
      "\n",
      "See the caveats in the documentation: http://pandas.pydata.org/pandas-docs/stable/indexing.html#indexing-view-versus-copy\n",
      "  self.obj[item] = s\n"
     ]
    },
    {
     "data": {
      "text/html": [
       "<div>\n",
       "<table border=\"1\" class=\"dataframe\">\n",
       "  <thead>\n",
       "    <tr style=\"text-align: right;\">\n",
       "      <th></th>\n",
       "      <th>AgeuponOutcome</th>\n",
       "      <th>AnimalType</th>\n",
       "      <th>Breed</th>\n",
       "      <th>Color</th>\n",
       "      <th>DateTime</th>\n",
       "      <th>Name</th>\n",
       "      <th>OutcomeSubtype</th>\n",
       "      <th>OutcomeType</th>\n",
       "      <th>SexuponOutcome</th>\n",
       "      <th>Train</th>\n",
       "    </tr>\n",
       "  </thead>\n",
       "  <tbody>\n",
       "    <tr>\n",
       "      <th>0</th>\n",
       "      <td>365</td>\n",
       "      <td>Dog</td>\n",
       "      <td>Shetland Sheepdog Mix</td>\n",
       "      <td>Brown/White</td>\n",
       "      <td>2014-02-12 18:22:00</td>\n",
       "      <td>Hambone</td>\n",
       "      <td>NaN</td>\n",
       "      <td>Return_to_owner</td>\n",
       "      <td>Neutered Male</td>\n",
       "      <td>True</td>\n",
       "    </tr>\n",
       "    <tr>\n",
       "      <th>1</th>\n",
       "      <td>365</td>\n",
       "      <td>Cat</td>\n",
       "      <td>Domestic Shorthair Mix</td>\n",
       "      <td>Cream Tabby</td>\n",
       "      <td>2013-10-13 12:44:00</td>\n",
       "      <td>Emily</td>\n",
       "      <td>Suffering</td>\n",
       "      <td>Euthanasia</td>\n",
       "      <td>Spayed Female</td>\n",
       "      <td>True</td>\n",
       "    </tr>\n",
       "    <tr>\n",
       "      <th>2</th>\n",
       "      <td>730</td>\n",
       "      <td>Dog</td>\n",
       "      <td>Pit Bull Mix</td>\n",
       "      <td>Blue/White</td>\n",
       "      <td>2015-01-31 12:28:00</td>\n",
       "      <td>Pearce</td>\n",
       "      <td>Foster</td>\n",
       "      <td>Adoption</td>\n",
       "      <td>Neutered Male</td>\n",
       "      <td>True</td>\n",
       "    </tr>\n",
       "  </tbody>\n",
       "</table>\n",
       "</div>"
      ],
      "text/plain": [
       "   AgeuponOutcome AnimalType                   Breed        Color  \\\n",
       "0             365        Dog   Shetland Sheepdog Mix  Brown/White   \n",
       "1             365        Cat  Domestic Shorthair Mix  Cream Tabby   \n",
       "2             730        Dog            Pit Bull Mix   Blue/White   \n",
       "\n",
       "              DateTime     Name OutcomeSubtype      OutcomeType  \\\n",
       "0  2014-02-12 18:22:00  Hambone            NaN  Return_to_owner   \n",
       "1  2013-10-13 12:44:00    Emily      Suffering       Euthanasia   \n",
       "2  2015-01-31 12:28:00   Pearce         Foster         Adoption   \n",
       "\n",
       "  SexuponOutcome Train  \n",
       "0  Neutered Male  True  \n",
       "1  Spayed Female  True  \n",
       "2  Neutered Male  True  "
      ]
     },
     "execution_count": 5,
     "metadata": {},
     "output_type": "execute_result"
    }
   ],
   "source": [
    "def transform_dates(val):\n",
    "#     print(float(val.split(\" \")[0]) * 365)\n",
    "#     print(val)\n",
    "    num_val = float(val.split(\" \")[0])\n",
    "    if \"year\" in val:\n",
    "        return num_val * 365\n",
    "    elif \"month\" in val:\n",
    "        return num_val * 31\n",
    "    elif \"week\" in val:\n",
    "        return num_val * 7\n",
    "\n",
    "\n",
    "def transform_dataset(df, columns_to_dropna=[\"AgeuponOutcome\", \"SexuponOutcome\"]):\n",
    "    result = df.dropna(subset=columns_to_dropna, axis=0)\n",
    "    result.loc[:, \"AgeuponOutcome\"] = result.loc[:, \"AgeuponOutcome\"].apply(transform_dates)\n",
    "    # result.drop(\\\"Name\\\")\n",
    "    return result\n",
    "\n",
    "train[\"Train\"] = True\n",
    "test[\"Train\"] = False\n",
    "train.drop('AnimalID', axis=1, inplace=True)\n",
    "test.drop('ID', axis=1, inplace=True)\n",
    "\n",
    "dataset = pd.concat([train, test])\n",
    "dataset = transform_dataset(dataset)\n",
    "# dataset.drop(['AnimalID', 'ID'], axis=1, inplace=True)\n",
    "# test_t = transform_dataset(test)\n",
    "dataset.head(3)"
   ]
  },
  {
   "cell_type": "markdown",
   "metadata": {},
   "source": [
    "Is there any empty values?"
   ]
  },
  {
   "cell_type": "code",
   "execution_count": 6,
   "metadata": {
    "collapsed": false
   },
   "outputs": [
    {
     "data": {
      "text/plain": [
       "AgeuponOutcome     True\n",
       "AnimalType        False\n",
       "Breed             False\n",
       "Color             False\n",
       "DateTime          False\n",
       "Name               True\n",
       "OutcomeSubtype     True\n",
       "OutcomeType        True\n",
       "SexuponOutcome    False\n",
       "Train             False\n",
       "dtype: bool"
      ]
     },
     "execution_count": 6,
     "metadata": {},
     "output_type": "execute_result"
    }
   ],
   "source": [
    "dataset.isnull().any()"
   ]
  },
  {
   "cell_type": "markdown",
   "metadata": {},
   "source": [
    "AgeuponOutcome needs fixing since it is qualitative variable"
   ]
  },
  {
   "cell_type": "code",
   "execution_count": 7,
   "metadata": {
    "collapsed": false
   },
   "outputs": [],
   "source": [
    "dataset[\"AgeuponOutcome\"].fillna(0, inplace=True)"
   ]
  },
  {
   "cell_type": "markdown",
   "metadata": {},
   "source": [
    "We want to split all mixed breeds. Breed column contains a low number of strings like \"Black/Tan Hound Mix\" so we will remove colors fom those so we can split all values as we wish"
   ]
  },
  {
   "cell_type": "code",
   "execution_count": 8,
   "metadata": {
    "collapsed": false
   },
   "outputs": [],
   "source": [
    "import re\n",
    "\n",
    "# First we remove \"Mix\" from all breeds and add additional categorical variable to the dataset\n",
    "dataset[\"Mix\"] = False\n",
    "dataset.loc[dataset[\"Breed\"].str.contains(\"Mix\"), \"Mix\"] = True\n",
    "breeds = dataset[\"Breed\"].apply(lambda x: x.split(\" Mix\")[0])\n",
    "\n",
    "# Next we remove all of the colors which cause problems when we try to split mixed breeds \n",
    "breeds = breeds.apply(lambda x: re.sub('Black\\s?|Tan\\s?', '', x))\n",
    "\n",
    "# After that let's remove dirty substrings left from previous replacements\n",
    "breeds = breeds.apply(lambda x: re.sub('^/', '', x))\n",
    "breeds = breeds.str.replace(\"//\", \"\")\n",
    "\n",
    "# Finally, lets split the breeds and modify out dataset\n",
    "breeds = breeds.apply(lambda x: pd.Series(x.split(\"/\")))\n",
    "breeds.columns = ['Breed', 'SecondaryBreed']\n",
    "\n",
    "dataset.drop('Breed', inplace=True, axis = 1)\n",
    "dataset = dataset.join(breeds)"
   ]
  },
  {
   "cell_type": "code",
   "execution_count": 9,
   "metadata": {
    "collapsed": false
   },
   "outputs": [
    {
     "data": {
      "text/html": [
       "<div>\n",
       "<table border=\"1\" class=\"dataframe\">\n",
       "  <thead>\n",
       "    <tr style=\"text-align: right;\">\n",
       "      <th></th>\n",
       "      <th>AgeuponOutcome</th>\n",
       "      <th>AnimalType</th>\n",
       "      <th>Color</th>\n",
       "      <th>DateTime</th>\n",
       "      <th>Name</th>\n",
       "      <th>OutcomeSubtype</th>\n",
       "      <th>OutcomeType</th>\n",
       "      <th>SexuponOutcome</th>\n",
       "      <th>Train</th>\n",
       "      <th>Mix</th>\n",
       "      <th>Breed</th>\n",
       "      <th>SecondaryBreed</th>\n",
       "    </tr>\n",
       "  </thead>\n",
       "  <tbody>\n",
       "    <tr>\n",
       "      <th>0</th>\n",
       "      <td>365</td>\n",
       "      <td>Dog</td>\n",
       "      <td>Brown/White</td>\n",
       "      <td>2014-02-12 18:22:00</td>\n",
       "      <td>Hambone</td>\n",
       "      <td>NaN</td>\n",
       "      <td>Return_to_owner</td>\n",
       "      <td>Neutered Male</td>\n",
       "      <td>True</td>\n",
       "      <td>True</td>\n",
       "      <td>Shetland Sheepdog</td>\n",
       "      <td>NaN</td>\n",
       "    </tr>\n",
       "    <tr>\n",
       "      <th>0</th>\n",
       "      <td>365</td>\n",
       "      <td>Dog</td>\n",
       "      <td>Brown/White</td>\n",
       "      <td>2014-02-12 18:22:00</td>\n",
       "      <td>Hambone</td>\n",
       "      <td>NaN</td>\n",
       "      <td>Return_to_owner</td>\n",
       "      <td>Neutered Male</td>\n",
       "      <td>True</td>\n",
       "      <td>True</td>\n",
       "      <td>Labrador Retriever</td>\n",
       "      <td>NaN</td>\n",
       "    </tr>\n",
       "    <tr>\n",
       "      <th>0</th>\n",
       "      <td>310</td>\n",
       "      <td>Dog</td>\n",
       "      <td>Red/White</td>\n",
       "      <td>2015-10-12 12:15:00</td>\n",
       "      <td>Summer</td>\n",
       "      <td>NaN</td>\n",
       "      <td>NaN</td>\n",
       "      <td>Intact Female</td>\n",
       "      <td>False</td>\n",
       "      <td>True</td>\n",
       "      <td>Shetland Sheepdog</td>\n",
       "      <td>NaN</td>\n",
       "    </tr>\n",
       "  </tbody>\n",
       "</table>\n",
       "</div>"
      ],
      "text/plain": [
       "   AgeuponOutcome AnimalType        Color             DateTime     Name  \\\n",
       "0             365        Dog  Brown/White  2014-02-12 18:22:00  Hambone   \n",
       "0             365        Dog  Brown/White  2014-02-12 18:22:00  Hambone   \n",
       "0             310        Dog    Red/White  2015-10-12 12:15:00   Summer   \n",
       "\n",
       "  OutcomeSubtype      OutcomeType SexuponOutcome  Train   Mix  \\\n",
       "0            NaN  Return_to_owner  Neutered Male   True  True   \n",
       "0            NaN  Return_to_owner  Neutered Male   True  True   \n",
       "0            NaN              NaN  Intact Female  False  True   \n",
       "\n",
       "                Breed SecondaryBreed  \n",
       "0   Shetland Sheepdog            NaN  \n",
       "0  Labrador Retriever            NaN  \n",
       "0   Shetland Sheepdog            NaN  "
      ]
     },
     "execution_count": 9,
     "metadata": {},
     "output_type": "execute_result"
    }
   ],
   "source": [
    "# dataset.reset_index(inplace=True)\n",
    "dataset.head(3)"
   ]
  },
  {
   "cell_type": "markdown",
   "metadata": {},
   "source": [
    "Now we split DateTime to several features"
   ]
  },
  {
   "cell_type": "code",
   "execution_count": 10,
   "metadata": {
    "collapsed": false
   },
   "outputs": [],
   "source": [
    "from datetime import *\n",
    "\n",
    "dates = dataset['DateTime'].apply(lambda x : datetime.strptime(x, \"%Y-%m-%d %H:%M:%S\"))\n",
    "\n",
    "def time_of_day(hour):\n",
    "    if hour > 7 and hour <= 11:\n",
    "        return \"morning\"\n",
    "    elif hour > 11 and hour <= 18:\n",
    "        return \"day\"\n",
    "    elif hour > 18 and hour <= 22:\n",
    "        return \"evening\"\n",
    "    else:\n",
    "        return \"night\"\n",
    "\n",
    "dataset[\"Year\"] = dates.apply(lambda x: x.year)\n",
    "dataset[\"Month\"] = dates.apply(lambda x: x.month)\n",
    "dataset[\"TimeOfDay\"] = dates.apply(lambda x: time_of_day(x.hour))\n",
    "dataset.drop(\"DateTime\", axis=1, inplace=True)"
   ]
  },
  {
   "cell_type": "markdown",
   "metadata": {},
   "source": [
    "Name can be converted to HasName categorical feature which will be more useful"
   ]
  },
  {
   "cell_type": "code",
   "execution_count": 11,
   "metadata": {
    "collapsed": false
   },
   "outputs": [],
   "source": [
    "dataset['HasName'] = dataset['Name'].isnull()\n",
    "dataset.drop(['Name', 'OutcomeSubtype'], axis=1, inplace=True)"
   ]
  },
  {
   "cell_type": "markdown",
   "metadata": {},
   "source": [
    "There will probaby be way to much features for colors, so we will transform them too"
   ]
  },
  {
   "cell_type": "code",
   "execution_count": 12,
   "metadata": {
    "collapsed": false
   },
   "outputs": [
    {
     "data": {
      "text/plain": [
       "(411,)"
      ]
     },
     "execution_count": 12,
     "metadata": {},
     "output_type": "execute_result"
    }
   ],
   "source": [
    "pd.value_counts(dataset['Color']).shape"
   ]
  },
  {
   "cell_type": "markdown",
   "metadata": {},
   "source": [
    "57 + 47 categorical features instead of 411, nice improvement"
   ]
  },
  {
   "cell_type": "code",
   "execution_count": 13,
   "metadata": {
    "collapsed": false
   },
   "outputs": [
    {
     "data": {
      "text/plain": [
       "(57, 47)"
      ]
     },
     "execution_count": 13,
     "metadata": {},
     "output_type": "execute_result"
    }
   ],
   "source": [
    "split_colors = pd.DataFrame(dataset['Color'].str.split('/').tolist(), columns=[\"Color1\", \"Color2\"])\n",
    "dataset.drop('Color', axis = 1, inplace=True)\n",
    "dataset = dataset.join(split_colors)\n",
    "\n",
    "len(split_colors['Color1'].unique()), len(split_colors['Color2'].unique())"
   ]
  },
  {
   "cell_type": "code",
   "execution_count": 14,
   "metadata": {
    "collapsed": false
   },
   "outputs": [],
   "source": [
    "sex = pd.DataFrame(dataset['SexuponOutcome'].str.split(\" \").tolist(), columns=[\"Sterialized\", \"Sex\"])\n",
    "sex.head(2)\n",
    "dataset = dataset.join(sex)\n",
    "dataset.drop('SexuponOutcome', axis = 1, inplace=True)"
   ]
  },
  {
   "cell_type": "markdown",
   "metadata": {},
   "source": [
    "Convert AnimalType to boolean feature"
   ]
  },
  {
   "cell_type": "code",
   "execution_count": 15,
   "metadata": {
    "collapsed": false
   },
   "outputs": [],
   "source": [
    "dataset['IsDog'] = dataset['AnimalType'].apply(lambda x: x == \"Dog\")\n",
    "dataset['IsMale'] = dataset['Sex'].apply(lambda x: x == \"Male\")\n",
    "dataset.drop(['AnimalType', 'Sex'], axis = 1, inplace = True)"
   ]
  },
  {
   "cell_type": "code",
   "execution_count": 16,
   "metadata": {
    "collapsed": false
   },
   "outputs": [
    {
     "data": {
      "text/html": [
       "<div>\n",
       "<table border=\"1\" class=\"dataframe\">\n",
       "  <thead>\n",
       "    <tr style=\"text-align: right;\">\n",
       "      <th></th>\n",
       "      <th>AgeuponOutcome</th>\n",
       "      <th>OutcomeType</th>\n",
       "      <th>Train</th>\n",
       "      <th>Mix</th>\n",
       "      <th>Year</th>\n",
       "      <th>Month</th>\n",
       "      <th>HasName</th>\n",
       "      <th>Breed_Abyssinian</th>\n",
       "      <th>Breed_Affenpinscher</th>\n",
       "      <th>Breed_Afghan Hound</th>\n",
       "      <th>...</th>\n",
       "      <th>SecondaryBreed_Yorkshire</th>\n",
       "      <th>SecondaryBreed_Yorkshire Terrier</th>\n",
       "      <th>Sterialized_Intact</th>\n",
       "      <th>Sterialized_Neutered</th>\n",
       "      <th>Sterialized_Spayed</th>\n",
       "      <th>Sterialized_Unknown</th>\n",
       "      <th>TimeOfDay_day</th>\n",
       "      <th>TimeOfDay_evening</th>\n",
       "      <th>TimeOfDay_morning</th>\n",
       "      <th>TimeOfDay_night</th>\n",
       "    </tr>\n",
       "  </thead>\n",
       "  <tbody>\n",
       "    <tr>\n",
       "      <th>0</th>\n",
       "      <td>365</td>\n",
       "      <td>Return_to_owner</td>\n",
       "      <td>True</td>\n",
       "      <td>True</td>\n",
       "      <td>2014</td>\n",
       "      <td>2</td>\n",
       "      <td>False</td>\n",
       "      <td>0</td>\n",
       "      <td>0</td>\n",
       "      <td>0</td>\n",
       "      <td>...</td>\n",
       "      <td>0</td>\n",
       "      <td>0</td>\n",
       "      <td>0</td>\n",
       "      <td>1</td>\n",
       "      <td>0</td>\n",
       "      <td>0</td>\n",
       "      <td>1</td>\n",
       "      <td>0</td>\n",
       "      <td>0</td>\n",
       "      <td>0</td>\n",
       "    </tr>\n",
       "    <tr>\n",
       "      <th>0</th>\n",
       "      <td>365</td>\n",
       "      <td>Return_to_owner</td>\n",
       "      <td>True</td>\n",
       "      <td>True</td>\n",
       "      <td>2014</td>\n",
       "      <td>2</td>\n",
       "      <td>False</td>\n",
       "      <td>0</td>\n",
       "      <td>0</td>\n",
       "      <td>0</td>\n",
       "      <td>...</td>\n",
       "      <td>0</td>\n",
       "      <td>0</td>\n",
       "      <td>0</td>\n",
       "      <td>1</td>\n",
       "      <td>0</td>\n",
       "      <td>0</td>\n",
       "      <td>1</td>\n",
       "      <td>0</td>\n",
       "      <td>0</td>\n",
       "      <td>0</td>\n",
       "    </tr>\n",
       "    <tr>\n",
       "      <th>0</th>\n",
       "      <td>310</td>\n",
       "      <td>NaN</td>\n",
       "      <td>False</td>\n",
       "      <td>True</td>\n",
       "      <td>2015</td>\n",
       "      <td>10</td>\n",
       "      <td>False</td>\n",
       "      <td>0</td>\n",
       "      <td>0</td>\n",
       "      <td>0</td>\n",
       "      <td>...</td>\n",
       "      <td>0</td>\n",
       "      <td>0</td>\n",
       "      <td>0</td>\n",
       "      <td>1</td>\n",
       "      <td>0</td>\n",
       "      <td>0</td>\n",
       "      <td>1</td>\n",
       "      <td>0</td>\n",
       "      <td>0</td>\n",
       "      <td>0</td>\n",
       "    </tr>\n",
       "  </tbody>\n",
       "</table>\n",
       "<p>3 rows × 504 columns</p>\n",
       "</div>"
      ],
      "text/plain": [
       "   AgeuponOutcome      OutcomeType  Train   Mix  Year  Month HasName  \\\n",
       "0             365  Return_to_owner   True  True  2014      2   False   \n",
       "0             365  Return_to_owner   True  True  2014      2   False   \n",
       "0             310              NaN  False  True  2015     10   False   \n",
       "\n",
       "   Breed_Abyssinian  Breed_Affenpinscher  Breed_Afghan Hound       ...         \\\n",
       "0                 0                    0                   0       ...          \n",
       "0                 0                    0                   0       ...          \n",
       "0                 0                    0                   0       ...          \n",
       "\n",
       "   SecondaryBreed_Yorkshire  SecondaryBreed_Yorkshire Terrier  \\\n",
       "0                         0                                 0   \n",
       "0                         0                                 0   \n",
       "0                         0                                 0   \n",
       "\n",
       "   Sterialized_Intact  Sterialized_Neutered  Sterialized_Spayed  \\\n",
       "0                   0                     1                   0   \n",
       "0                   0                     1                   0   \n",
       "0                   0                     1                   0   \n",
       "\n",
       "   Sterialized_Unknown  TimeOfDay_day  TimeOfDay_evening  TimeOfDay_morning  \\\n",
       "0                    0              1                  0                  0   \n",
       "0                    0              1                  0                  0   \n",
       "0                    0              1                  0                  0   \n",
       "\n",
       "   TimeOfDay_night  \n",
       "0                0  \n",
       "0                0  \n",
       "0                0  \n",
       "\n",
       "[3 rows x 504 columns]"
      ]
     },
     "execution_count": 16,
     "metadata": {},
     "output_type": "execute_result"
    }
   ],
   "source": [
    "cols = dataset.columns.difference([\"Name\", \"AgeuponOutcome\", \"OutcomeType\", \"index\", \"Mix\", \"Month\", \"Train\", \"Year\", \"level_0\", \"AnimalType\", \"HasName\"])\n",
    "dataset_d = pd.get_dummies(dataset, columns = cols)\n",
    "dataset_d.head(3)"
   ]
  },
  {
   "cell_type": "code",
   "execution_count": 17,
   "metadata": {
    "collapsed": false
   },
   "outputs": [
    {
     "data": {
      "text/html": [
       "<div>\n",
       "<table border=\"1\" class=\"dataframe\">\n",
       "  <thead>\n",
       "    <tr style=\"text-align: right;\">\n",
       "      <th></th>\n",
       "      <th>OutcomeType</th>\n",
       "    </tr>\n",
       "  </thead>\n",
       "  <tbody>\n",
       "    <tr>\n",
       "      <th>0</th>\n",
       "      <td>Return_to_owner</td>\n",
       "    </tr>\n",
       "  </tbody>\n",
       "</table>\n",
       "</div>"
      ],
      "text/plain": [
       "       OutcomeType\n",
       "0  Return_to_owner"
      ]
     },
     "execution_count": 17,
     "metadata": {},
     "output_type": "execute_result"
    }
   ],
   "source": [
    "# dataset_d.drop(['index'], axis=1, inplace=True)\n",
    "dataset_d.loc[:, dataset_d.columns.str.contains(\"OutcomeType\")].head(1)"
   ]
  },
  {
   "cell_type": "markdown",
   "metadata": {},
   "source": [
    "Now we fit XGBoost model on full dataset in order to perform feature selection"
   ]
  },
  {
   "cell_type": "code",
   "execution_count": 20,
   "metadata": {
    "collapsed": false
   },
   "outputs": [
    {
     "name": "stderr",
     "output_type": "stream",
     "text": [
      "/home/kernelmode/anaconda3/lib/python3.5/site-packages/ipykernel/__main__.py:8: SettingWithCopyWarning: \n",
      "A value is trying to be set on a copy of a slice from a DataFrame\n",
      "\n",
      "See the caveats in the documentation: http://pandas.pydata.org/pandas-docs/stable/indexing.html#indexing-view-versus-copy\n",
      "/home/kernelmode/anaconda3/lib/python3.5/site-packages/ipykernel/__main__.py:9: SettingWithCopyWarning: \n",
      "A value is trying to be set on a copy of a slice from a DataFrame\n",
      "\n",
      "See the caveats in the documentation: http://pandas.pydata.org/pandas-docs/stable/indexing.html#indexing-view-versus-copy\n"
     ]
    }
   ],
   "source": [
    "from sklearn.ensemble import ExtraTreesClassifier\n",
    "from sklearn.cross_validation import train_test_split\n",
    "from sklearn.cross_validation import StratifiedKFold\n",
    "\n",
    "train = dataset_d[dataset['Train'] == True]\n",
    "test = dataset_d[dataset['Train'] == False]\n",
    "\n",
    "train.drop('Train', axis=1, inplace=True)\n",
    "test.drop('Train', axis=1, inplace=True)\n",
    "\n",
    "train_x = train.loc[:, train.columns.difference([\"OutcomeType\"])]\n",
    "train_y = train.loc[:, \"OutcomeType\"]\n",
    "\n",
    "train_x, val_x, train_y, val_y = train_test_split(train_x, train_y, test_size=0.3)\n",
    "\n",
    "test_x = test.loc[:, test.columns.difference([\"OutcomeType\"])]"
   ]
  },
  {
   "cell_type": "markdown",
   "metadata": {},
   "source": [
    "Error estimates for the full model will help us not to throw off important features during selection "
   ]
  },
  {
   "cell_type": "code",
   "execution_count": 21,
   "metadata": {
    "collapsed": false
   },
   "outputs": [
    {
     "data": {
      "text/html": [
       "<div>\n",
       "<table border=\"1\" class=\"dataframe\">\n",
       "  <thead>\n",
       "    <tr style=\"text-align: right;\">\n",
       "      <th></th>\n",
       "      <th>test-merror-mean</th>\n",
       "      <th>test-merror-std</th>\n",
       "      <th>train-merror-mean</th>\n",
       "      <th>train-merror-std</th>\n",
       "    </tr>\n",
       "  </thead>\n",
       "  <tbody>\n",
       "    <tr>\n",
       "      <th>0</th>\n",
       "      <td>0.435649</td>\n",
       "      <td>0.006023</td>\n",
       "      <td>0.401432</td>\n",
       "      <td>0.002125</td>\n",
       "    </tr>\n",
       "    <tr>\n",
       "      <th>1</th>\n",
       "      <td>0.413219</td>\n",
       "      <td>0.010682</td>\n",
       "      <td>0.370455</td>\n",
       "      <td>0.010213</td>\n",
       "    </tr>\n",
       "    <tr>\n",
       "      <th>2</th>\n",
       "      <td>0.404044</td>\n",
       "      <td>0.015731</td>\n",
       "      <td>0.363649</td>\n",
       "      <td>0.017732</td>\n",
       "    </tr>\n",
       "    <tr>\n",
       "      <th>3</th>\n",
       "      <td>0.402808</td>\n",
       "      <td>0.015923</td>\n",
       "      <td>0.361814</td>\n",
       "      <td>0.017228</td>\n",
       "    </tr>\n",
       "    <tr>\n",
       "      <th>4</th>\n",
       "      <td>0.396255</td>\n",
       "      <td>0.013393</td>\n",
       "      <td>0.354437</td>\n",
       "      <td>0.015069</td>\n",
       "    </tr>\n",
       "    <tr>\n",
       "      <th>5</th>\n",
       "      <td>0.393447</td>\n",
       "      <td>0.012647</td>\n",
       "      <td>0.350786</td>\n",
       "      <td>0.014011</td>\n",
       "    </tr>\n",
       "    <tr>\n",
       "      <th>6</th>\n",
       "      <td>0.390264</td>\n",
       "      <td>0.008513</td>\n",
       "      <td>0.345815</td>\n",
       "      <td>0.009056</td>\n",
       "    </tr>\n",
       "    <tr>\n",
       "      <th>7</th>\n",
       "      <td>0.387605</td>\n",
       "      <td>0.006445</td>\n",
       "      <td>0.342754</td>\n",
       "      <td>0.007748</td>\n",
       "    </tr>\n",
       "    <tr>\n",
       "      <th>8</th>\n",
       "      <td>0.385546</td>\n",
       "      <td>0.004850</td>\n",
       "      <td>0.339758</td>\n",
       "      <td>0.005976</td>\n",
       "    </tr>\n",
       "    <tr>\n",
       "      <th>9</th>\n",
       "      <td>0.384048</td>\n",
       "      <td>0.003194</td>\n",
       "      <td>0.336969</td>\n",
       "      <td>0.005540</td>\n",
       "    </tr>\n",
       "  </tbody>\n",
       "</table>\n",
       "</div>"
      ],
      "text/plain": [
       "   test-merror-mean  test-merror-std  train-merror-mean  train-merror-std\n",
       "0          0.435649         0.006023           0.401432          0.002125\n",
       "1          0.413219         0.010682           0.370455          0.010213\n",
       "2          0.404044         0.015731           0.363649          0.017732\n",
       "3          0.402808         0.015923           0.361814          0.017228\n",
       "4          0.396255         0.013393           0.354437          0.015069\n",
       "5          0.393447         0.012647           0.350786          0.014011\n",
       "6          0.390264         0.008513           0.345815          0.009056\n",
       "7          0.387605         0.006445           0.342754          0.007748\n",
       "8          0.385546         0.004850           0.339758          0.005976\n",
       "9          0.384048         0.003194           0.336969          0.005540"
      ]
     },
     "execution_count": 21,
     "metadata": {},
     "output_type": "execute_result"
    }
   ],
   "source": [
    "import xgboost as xgb\n",
    "from sklearn import preprocessing\n",
    "from sklearn.preprocessing import LabelEncoder\n",
    "# xgb_param_dist = {\"n_estimators\"     : 150,\n",
    "#                   \"max_depth\"        : 8,\n",
    "#                   \"learning_rate\"    : 0.1,\n",
    "#                   \"colsample_bytree\" : 0.8}\n",
    "\n",
    "xgb_param_dist = {\"n_estimators\"     : 200,\n",
    "                  \"max_depth\"        : 10,\n",
    "                  \"learning_rate\"    : 0.08,\n",
    "                  \"colsample_bytree\" : 0.7,\n",
    "                  \"objective\"        : \"multi:softmax\",\n",
    "                  \"num_class\" : 5}\n",
    "\n",
    "enc = LabelEncoder()\n",
    "enc.fit(train_y)\n",
    "train_yt = enc.transform(train_y)\n",
    "xgb.cv(xgb_param_dist, xgb.DMatrix(train_x, train_yt), nfold=5)"
   ]
  },
  {
   "cell_type": "code",
   "execution_count": 25,
   "metadata": {
    "collapsed": false
   },
   "outputs": [
    {
     "name": "stdout",
     "output_type": "stream",
     "text": [
      "CPU times: user 21min 43s, sys: 24.5 s, total: 22min 8s\n",
      "Wall time: 3min 15s\n"
     ]
    },
    {
     "data": {
      "text/plain": [
       "XGBClassifier(base_score=0.5, colsample_bylevel=1, colsample_bytree=0.7,\n",
       "       gamma=0, learning_rate=0.08, max_delta_step=0, max_depth=10,\n",
       "       min_child_weight=1, missing=None, n_estimators=200, nthread=-1,\n",
       "       objective='multi:softmax', reg_alpha=0, reg_lambda=1,\n",
       "       scale_pos_weight=1, seed=0, silent=True, subsample=1)"
      ]
     },
     "execution_count": 25,
     "metadata": {},
     "output_type": "execute_result"
    }
   ],
   "source": [
    "xgb_param_dist.pop(\"num_class\", None)\n",
    "cf = xgb.XGBClassifier(**xgb_param_dist)\n",
    "%time cf.fit(train_x, train_y)"
   ]
  },
  {
   "cell_type": "markdown",
   "metadata": {},
   "source": [
    "Let's get feature importance map and see top 100 features"
   ]
  },
  {
   "cell_type": "code",
   "execution_count": 26,
   "metadata": {
    "collapsed": false
   },
   "outputs": [
    {
     "data": {
      "text/plain": [
       "array([16270, 13009,  6384,  3837,  3292,  3000,  2875,  2581,  2448,\n",
       "        2275,  1932,  1921,  1831,  1713,  1614,  1510,  1450,  1407,\n",
       "        1026,  1008,   941,   932,   865,   806,   802,   797,   751,\n",
       "         743,   718,   716,   673,   600,   498,   497,   495,   491,\n",
       "         445,   412,   396,   390,   383,   379,   355,   307,   298,\n",
       "         293,   283,   282,   239,   237,   229,   228,   216,   216,\n",
       "         200,   199,   198,   193,   187,   183,   181,   172,   168,\n",
       "         162,   156,   155,   154,   154,   143,   138,   134,   130,\n",
       "         127,   126,   123,   121,   121,   119,   118,   117,   113,\n",
       "         111,   109,   109,   109,   109,   107,   104,   104,    99,\n",
       "          94,    93,    92,    91,    88,    88,    83,    82,    81,    78])"
      ]
     },
     "execution_count": 26,
     "metadata": {},
     "output_type": "execute_result"
    }
   ],
   "source": [
    "fscores = cf.booster().get_fscore()\n",
    "np.sort(list(fscores.values()))[::-1][0:100]"
   ]
  },
  {
   "cell_type": "markdown",
   "metadata": {},
   "source": [
    "Perform feature selection based on a `fscore` threshold"
   ]
  },
  {
   "cell_type": "code",
   "execution_count": 27,
   "metadata": {
    "collapsed": false
   },
   "outputs": [
    {
     "name": "stdout",
     "output_type": "stream",
     "text": [
      "27.05% features left\n"
     ]
    }
   ],
   "source": [
    "filtered_fscores = {k: v for k, v in fscores.items() if v > 100}\n",
    "\n",
    "print(\"{0:1.2f}% features left\".format((len(filtered_fscores) / len(fscores)) * 100))\n",
    "# model = SelectFromModel(cf ,prefit=True)\n",
    "# train_xr = model.transform(train_x)"
   ]
  },
  {
   "cell_type": "markdown",
   "metadata": {},
   "source": [
    "Estimate the new model"
   ]
  },
  {
   "cell_type": "code",
   "execution_count": 28,
   "metadata": {
    "collapsed": false
   },
   "outputs": [
    {
     "ename": "XGBoostError",
     "evalue": "b'value 0for Parameter num_class should be greater equal to 1'",
     "output_type": "error",
     "traceback": [
      "\u001b[1;31m---------------------------------------------------------------------------\u001b[0m",
      "\u001b[1;31mXGBoostError\u001b[0m                              Traceback (most recent call last)",
      "\u001b[1;32m<ipython-input-28-6c9794961308>\u001b[0m in \u001b[0;36m<module>\u001b[1;34m()\u001b[0m\n\u001b[0;32m      5\u001b[0m \u001b[1;31m# cfr = xgb.XGBClassifier(**xgb_param_dist)\u001b[0m\u001b[1;33m\u001b[0m\u001b[1;33m\u001b[0m\u001b[0m\n\u001b[0;32m      6\u001b[0m \u001b[1;31m# cfr.fit(train_xr, train_y)\u001b[0m\u001b[1;33m\u001b[0m\u001b[1;33m\u001b[0m\u001b[0m\n\u001b[1;32m----> 7\u001b[1;33m \u001b[0mxgb\u001b[0m\u001b[1;33m.\u001b[0m\u001b[0mcv\u001b[0m\u001b[1;33m(\u001b[0m\u001b[0mxgb_param_dist\u001b[0m\u001b[1;33m,\u001b[0m \u001b[0mxgb\u001b[0m\u001b[1;33m.\u001b[0m\u001b[0mDMatrix\u001b[0m\u001b[1;33m(\u001b[0m\u001b[0mtrain_xr\u001b[0m\u001b[1;33m,\u001b[0m \u001b[0mtrain_yt\u001b[0m\u001b[1;33m)\u001b[0m\u001b[1;33m,\u001b[0m \u001b[1;36m15\u001b[0m\u001b[1;33m,\u001b[0m \u001b[0mnfold\u001b[0m\u001b[1;33m=\u001b[0m\u001b[1;36m5\u001b[0m\u001b[1;33m)\u001b[0m\u001b[1;33m\u001b[0m\u001b[0m\n\u001b[0m",
      "\u001b[1;32m/home/kernelmode/Projects/xgboost/python-package/xgboost/training.py\u001b[0m in \u001b[0;36mcv\u001b[1;34m(params, dtrain, num_boost_round, nfold, stratified, folds, metrics, obj, feval, maximize, early_stopping_rounds, fpreproc, as_pandas, verbose_eval, show_stdv, seed)\u001b[0m\n\u001b[0;32m    454\u001b[0m     \u001b[1;32mfor\u001b[0m \u001b[0mi\u001b[0m \u001b[1;32min\u001b[0m \u001b[0mrange\u001b[0m\u001b[1;33m(\u001b[0m\u001b[0mnum_boost_round\u001b[0m\u001b[1;33m)\u001b[0m\u001b[1;33m:\u001b[0m\u001b[1;33m\u001b[0m\u001b[0m\n\u001b[0;32m    455\u001b[0m         \u001b[1;32mfor\u001b[0m \u001b[0mfold\u001b[0m \u001b[1;32min\u001b[0m \u001b[0mcvfolds\u001b[0m\u001b[1;33m:\u001b[0m\u001b[1;33m\u001b[0m\u001b[0m\n\u001b[1;32m--> 456\u001b[1;33m             \u001b[0mfold\u001b[0m\u001b[1;33m.\u001b[0m\u001b[0mupdate\u001b[0m\u001b[1;33m(\u001b[0m\u001b[0mi\u001b[0m\u001b[1;33m,\u001b[0m \u001b[0mobj\u001b[0m\u001b[1;33m)\u001b[0m\u001b[1;33m\u001b[0m\u001b[0m\n\u001b[0m\u001b[0;32m    457\u001b[0m         res = aggcv([f.eval(i, feval) for f in cvfolds],\n\u001b[0;32m    458\u001b[0m                     \u001b[0mshow_stdv\u001b[0m\u001b[1;33m=\u001b[0m\u001b[0mshow_stdv\u001b[0m\u001b[1;33m,\u001b[0m \u001b[0mverbose_eval\u001b[0m\u001b[1;33m=\u001b[0m\u001b[0mverbose_eval\u001b[0m\u001b[1;33m,\u001b[0m\u001b[1;33m\u001b[0m\u001b[0m\n",
      "\u001b[1;32m/home/kernelmode/Projects/xgboost/python-package/xgboost/training.py\u001b[0m in \u001b[0;36mupdate\u001b[1;34m(self, iteration, fobj)\u001b[0m\n\u001b[0;32m    251\u001b[0m     \u001b[1;32mdef\u001b[0m \u001b[0mupdate\u001b[0m\u001b[1;33m(\u001b[0m\u001b[0mself\u001b[0m\u001b[1;33m,\u001b[0m \u001b[0miteration\u001b[0m\u001b[1;33m,\u001b[0m \u001b[0mfobj\u001b[0m\u001b[1;33m)\u001b[0m\u001b[1;33m:\u001b[0m\u001b[1;33m\u001b[0m\u001b[0m\n\u001b[0;32m    252\u001b[0m         \u001b[1;34m\"\"\"\"Update the boosters for one iteration\"\"\"\u001b[0m\u001b[1;33m\u001b[0m\u001b[0m\n\u001b[1;32m--> 253\u001b[1;33m         \u001b[0mself\u001b[0m\u001b[1;33m.\u001b[0m\u001b[0mbst\u001b[0m\u001b[1;33m.\u001b[0m\u001b[0mupdate\u001b[0m\u001b[1;33m(\u001b[0m\u001b[0mself\u001b[0m\u001b[1;33m.\u001b[0m\u001b[0mdtrain\u001b[0m\u001b[1;33m,\u001b[0m \u001b[0miteration\u001b[0m\u001b[1;33m,\u001b[0m \u001b[0mfobj\u001b[0m\u001b[1;33m)\u001b[0m\u001b[1;33m\u001b[0m\u001b[0m\n\u001b[0m\u001b[0;32m    254\u001b[0m \u001b[1;33m\u001b[0m\u001b[0m\n\u001b[0;32m    255\u001b[0m     \u001b[1;32mdef\u001b[0m \u001b[0meval\u001b[0m\u001b[1;33m(\u001b[0m\u001b[0mself\u001b[0m\u001b[1;33m,\u001b[0m \u001b[0miteration\u001b[0m\u001b[1;33m,\u001b[0m \u001b[0mfeval\u001b[0m\u001b[1;33m)\u001b[0m\u001b[1;33m:\u001b[0m\u001b[1;33m\u001b[0m\u001b[0m\n",
      "\u001b[1;32m/home/kernelmode/Projects/xgboost/python-package/xgboost/core.py\u001b[0m in \u001b[0;36mupdate\u001b[1;34m(self, dtrain, iteration, fobj)\u001b[0m\n\u001b[0;32m    748\u001b[0m \u001b[1;33m\u001b[0m\u001b[0m\n\u001b[0;32m    749\u001b[0m         \u001b[1;32mif\u001b[0m \u001b[0mfobj\u001b[0m \u001b[1;32mis\u001b[0m \u001b[1;32mNone\u001b[0m\u001b[1;33m:\u001b[0m\u001b[1;33m\u001b[0m\u001b[0m\n\u001b[1;32m--> 750\u001b[1;33m             \u001b[0m_check_call\u001b[0m\u001b[1;33m(\u001b[0m\u001b[0m_LIB\u001b[0m\u001b[1;33m.\u001b[0m\u001b[0mXGBoosterUpdateOneIter\u001b[0m\u001b[1;33m(\u001b[0m\u001b[0mself\u001b[0m\u001b[1;33m.\u001b[0m\u001b[0mhandle\u001b[0m\u001b[1;33m,\u001b[0m \u001b[0miteration\u001b[0m\u001b[1;33m,\u001b[0m \u001b[0mdtrain\u001b[0m\u001b[1;33m.\u001b[0m\u001b[0mhandle\u001b[0m\u001b[1;33m)\u001b[0m\u001b[1;33m)\u001b[0m\u001b[1;33m\u001b[0m\u001b[0m\n\u001b[0m\u001b[0;32m    751\u001b[0m         \u001b[1;32melse\u001b[0m\u001b[1;33m:\u001b[0m\u001b[1;33m\u001b[0m\u001b[0m\n\u001b[0;32m    752\u001b[0m             \u001b[0mpred\u001b[0m \u001b[1;33m=\u001b[0m \u001b[0mself\u001b[0m\u001b[1;33m.\u001b[0m\u001b[0mpredict\u001b[0m\u001b[1;33m(\u001b[0m\u001b[0mdtrain\u001b[0m\u001b[1;33m)\u001b[0m\u001b[1;33m\u001b[0m\u001b[0m\n",
      "\u001b[1;32m/home/kernelmode/Projects/xgboost/python-package/xgboost/core.py\u001b[0m in \u001b[0;36m_check_call\u001b[1;34m(ret)\u001b[0m\n\u001b[0;32m     95\u001b[0m     \"\"\"\n\u001b[0;32m     96\u001b[0m     \u001b[1;32mif\u001b[0m \u001b[0mret\u001b[0m \u001b[1;33m!=\u001b[0m \u001b[1;36m0\u001b[0m\u001b[1;33m:\u001b[0m\u001b[1;33m\u001b[0m\u001b[0m\n\u001b[1;32m---> 97\u001b[1;33m         \u001b[1;32mraise\u001b[0m \u001b[0mXGBoostError\u001b[0m\u001b[1;33m(\u001b[0m\u001b[0m_LIB\u001b[0m\u001b[1;33m.\u001b[0m\u001b[0mXGBGetLastError\u001b[0m\u001b[1;33m(\u001b[0m\u001b[1;33m)\u001b[0m\u001b[1;33m)\u001b[0m\u001b[1;33m\u001b[0m\u001b[0m\n\u001b[0m\u001b[0;32m     98\u001b[0m \u001b[1;33m\u001b[0m\u001b[0m\n\u001b[0;32m     99\u001b[0m \u001b[1;33m\u001b[0m\u001b[0m\n",
      "\u001b[1;31mXGBoostError\u001b[0m: b'value 0for Parameter num_class should be greater equal to 1'"
     ]
    }
   ],
   "source": [
    "filtered_cols = list(filtered_fscores.keys())\n",
    "train_xr = train_x[filtered_cols]\n",
    "val_xr = val_x[filtered_cols]\n",
    "\n",
    "# cfr = xgb.XGBClassifier(**xgb_param_dist)\n",
    "# cfr.fit(train_xr, train_y)\n",
    "xgb.cv(xgb_param_dist, xgb.DMatrix(train_xr, train_yt), 15, nfold=5)"
   ]
  },
  {
   "cell_type": "markdown",
   "metadata": {},
   "source": [
    "Now it is time for hyperparameter optimization"
   ]
  },
  {
   "cell_type": "code",
   "execution_count": 36,
   "metadata": {
    "collapsed": false
   },
   "outputs": [
    {
     "name": "stdout",
     "output_type": "stream",
     "text": [
      "Fitting 3 folds for each of 30 candidates, totalling 90 fits\n"
     ]
    },
    {
     "name": "stderr",
     "output_type": "stream",
     "text": [
      "[Parallel(n_jobs=8)]: Done  34 tasks      | elapsed: 12.5min\n",
      "[Parallel(n_jobs=8)]: Done  90 out of  90 | elapsed: 30.3min finished\n"
     ]
    },
    {
     "name": "stdout",
     "output_type": "stream",
     "text": [
      "CPU times: user 2min 30s, sys: 1.69 s, total: 2min 32s\n",
      "Wall time: 30min 36s\n",
      "Best randomized search score - 0.636734693878\n"
     ]
    }
   ],
   "source": [
    "from scipy.stats import uniform\n",
    "from scipy.stats import randint as sp_randint\n",
    "from sklearn.grid_search import RandomizedSearchCV\n",
    "\n",
    "xgb_param_dist = {\"n_estimators\" : np.arange(10, 250, 10),\n",
    "                    \"max_depth\": sp_randint(2, 31),\n",
    "                    \"learning_rate\" : uniform(loc = 0.01, scale=0.2),\n",
    "                    \"colsample_bytree\" : uniform(loc = 0.3, scale = 0.7),\n",
    "                    \"subsample\" : uniform(loc = 0.0, scale = 0.7),\n",
    "                    \"objective\" : \"multi:softmax\"}\n",
    "\n",
    "xgb_clf = xgb.XGBClassifier()\n",
    "n_iter_search = 30\n",
    "\n",
    "xgb_random_search = RandomizedSearchCV(xgb_clf, param_distributions = xgb_param_dist,\n",
    "                                       n_iter = n_iter_search, random_state = 123, n_jobs = 8, verbose = 1)\n",
    "%time xgb_random_search.fit(train_xr, train_yt)\n",
    "                                       \n",
    "xgb_clf = xgb_random_search.best_estimator_\n",
    "\n",
    "print(\"Best randomized search score - %s\" % xgb_random_search.best_score_)"
   ]
  },
  {
   "cell_type": "code",
   "execution_count": 38,
   "metadata": {
    "collapsed": false
   },
   "outputs": [],
   "source": [
    "xgb_clf.booster().save_model('random_search_best_est.model')"
   ]
  },
  {
   "cell_type": "code",
   "execution_count": 39,
   "metadata": {
    "collapsed": false
   },
   "outputs": [
    {
     "data": {
      "text/plain": [
       "XGBClassifier(base_score=0.5, colsample_bylevel=1,\n",
       "       colsample_bytree=0.767666166020837, gamma=0,\n",
       "       learning_rate=0.0772553896305663, max_delta_step=0, max_depth=20,\n",
       "       min_child_weight=1, missing=None, n_estimators=70, nthread=-1,\n",
       "       objective='binary:logistic', reg_alpha=0, reg_lambda=1,\n",
       "       scale_pos_weight=1, seed=0, silent=True,\n",
       "       subsample=0.5315892750132439)"
      ]
     },
     "execution_count": 39,
     "metadata": {},
     "output_type": "execute_result"
    }
   ],
   "source": [
    "xgb_clf"
   ]
  }
 ],
 "metadata": {
  "kernelspec": {
   "display_name": "Python 3",
   "language": "python",
   "name": "python3"
  },
  "language_info": {
   "codemirror_mode": {
    "name": "ipython",
    "version": 3
   },
   "file_extension": ".py",
   "mimetype": "text/x-python",
   "name": "python",
   "nbconvert_exporter": "python",
   "pygments_lexer": "ipython3",
   "version": "3.5.1"
  }
 },
 "nbformat": 4,
 "nbformat_minor": 0
}
