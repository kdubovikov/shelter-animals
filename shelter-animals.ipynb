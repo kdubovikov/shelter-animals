{
 "cells": [
  {
   "cell_type": "code",
   "execution_count": 262,
   "metadata": {
    "collapsed": true
   },
   "outputs": [],
   "source": [
    "import pandas as pd\n",
    "import matplotlib as plt\n",
    "import numpy as np\n",
    "\n",
    "%matplotlib inline"
   ]
  },
  {
   "cell_type": "code",
   "execution_count": 450,
   "metadata": {
    "collapsed": false
   },
   "outputs": [
    {
     "data": {
      "text/plain": [
       "((26729, 10), (11456, 8))"
      ]
     },
     "execution_count": 450,
     "metadata": {},
     "output_type": "execute_result"
    }
   ],
   "source": [
    "train = pd.read_csv(\"./train.csv\")\n",
    "test = pd.read_csv(\"./test.csv\")\n",
    "train.shape, test.shape"
   ]
  },
  {
   "cell_type": "code",
   "execution_count": 451,
   "metadata": {
    "collapsed": false
   },
   "outputs": [
    {
     "data": {
      "text/plain": [
       "OutcomeSubtype    50.925961\n",
       "Name              28.773991\n",
       "AgeuponOutcome     0.067343\n",
       "SexuponOutcome     0.003741\n",
       "Color              0.000000\n",
       "Breed              0.000000\n",
       "AnimalType         0.000000\n",
       "OutcomeType        0.000000\n",
       "DateTime           0.000000\n",
       "AnimalID           0.000000\n",
       "dtype: float64"
      ]
     },
     "execution_count": 451,
     "metadata": {},
     "output_type": "execute_result"
    }
   ],
   "source": [
    "empty_percent = train.apply(pd.isnull, axis = 0).sum() / train.shape[0] * 100\n",
    "empty_percent.sort_values(ascending=False)"
   ]
  },
  {
   "cell_type": "code",
   "execution_count": 452,
   "metadata": {
    "collapsed": false
   },
   "outputs": [
    {
     "data": {
      "text/html": [
       "<div>\n",
       "<table border=\"1\" class=\"dataframe\">\n",
       "  <thead>\n",
       "    <tr style=\"text-align: right;\">\n",
       "      <th></th>\n",
       "      <th>AgeuponOutcome</th>\n",
       "      <th>AnimalType</th>\n",
       "      <th>Breed</th>\n",
       "      <th>Color</th>\n",
       "      <th>DateTime</th>\n",
       "      <th>Name</th>\n",
       "      <th>OutcomeSubtype</th>\n",
       "      <th>OutcomeType</th>\n",
       "      <th>SexuponOutcome</th>\n",
       "      <th>Train</th>\n",
       "    </tr>\n",
       "  </thead>\n",
       "  <tbody>\n",
       "    <tr>\n",
       "      <th>0</th>\n",
       "      <td>365.0</td>\n",
       "      <td>Dog</td>\n",
       "      <td>Shetland Sheepdog Mix</td>\n",
       "      <td>Brown/White</td>\n",
       "      <td>2014-02-12 18:22:00</td>\n",
       "      <td>Hambone</td>\n",
       "      <td>NaN</td>\n",
       "      <td>Return_to_owner</td>\n",
       "      <td>Neutered Male</td>\n",
       "      <td>True</td>\n",
       "    </tr>\n",
       "    <tr>\n",
       "      <th>1</th>\n",
       "      <td>365.0</td>\n",
       "      <td>Cat</td>\n",
       "      <td>Domestic Shorthair Mix</td>\n",
       "      <td>Cream Tabby</td>\n",
       "      <td>2013-10-13 12:44:00</td>\n",
       "      <td>Emily</td>\n",
       "      <td>Suffering</td>\n",
       "      <td>Euthanasia</td>\n",
       "      <td>Spayed Female</td>\n",
       "      <td>True</td>\n",
       "    </tr>\n",
       "    <tr>\n",
       "      <th>2</th>\n",
       "      <td>730.0</td>\n",
       "      <td>Dog</td>\n",
       "      <td>Pit Bull Mix</td>\n",
       "      <td>Blue/White</td>\n",
       "      <td>2015-01-31 12:28:00</td>\n",
       "      <td>Pearce</td>\n",
       "      <td>Foster</td>\n",
       "      <td>Adoption</td>\n",
       "      <td>Neutered Male</td>\n",
       "      <td>True</td>\n",
       "    </tr>\n",
       "  </tbody>\n",
       "</table>\n",
       "</div>"
      ],
      "text/plain": [
       "   AgeuponOutcome AnimalType                   Breed        Color  \\\n",
       "0           365.0        Dog   Shetland Sheepdog Mix  Brown/White   \n",
       "1           365.0        Cat  Domestic Shorthair Mix  Cream Tabby   \n",
       "2           730.0        Dog            Pit Bull Mix   Blue/White   \n",
       "\n",
       "              DateTime     Name OutcomeSubtype      OutcomeType  \\\n",
       "0  2014-02-12 18:22:00  Hambone            NaN  Return_to_owner   \n",
       "1  2013-10-13 12:44:00    Emily      Suffering       Euthanasia   \n",
       "2  2015-01-31 12:28:00   Pearce         Foster         Adoption   \n",
       "\n",
       "  SexuponOutcome Train  \n",
       "0  Neutered Male  True  \n",
       "1  Spayed Female  True  \n",
       "2  Neutered Male  True  "
      ]
     },
     "execution_count": 452,
     "metadata": {},
     "output_type": "execute_result"
    }
   ],
   "source": [
    "def transform_dates(val):\n",
    "#     print(float(val.split(\" \")[0]) * 365)\n",
    "#     print(val)\n",
    "    if pd.isnull(val):\n",
    "        return val\n",
    "    \n",
    "    num_val = float(val.split(\" \")[0])\n",
    "    if \"year\" in val:\n",
    "        return num_val * 365\n",
    "    elif \"month\" in val:\n",
    "        return num_val * 31\n",
    "    elif \"week\" in val:\n",
    "        return num_val * 7\n",
    "\n",
    "\n",
    "def transform_dataset(df, columns_to_dropna=[\"AgeuponOutcome\", \"SexuponOutcome\"]):\n",
    "    result = df\n",
    "#     result = df.dropna(subset=columns_to_dropna, axis=0)\n",
    "    result.loc[:, \"AgeuponOutcome\"] = result.loc[:, \"AgeuponOutcome\"].apply(transform_dates)\n",
    "    result[\"AgeuponOutcome\"].fillna(result['AgeuponOutcome'].dropna().mean(), inplace = True)\n",
    "    return result\n",
    "\n",
    "train[\"Train\"] = True\n",
    "test[\"Train\"] = False\n",
    "train.drop('AnimalID', axis=1, inplace=True)\n",
    "test.drop('ID', axis=1, inplace=True)\n",
    "\n",
    "dataset = pd.concat([train, test])\n",
    "dataset = transform_dataset(dataset)\n",
    "# dataset.drop(['AnimalID', 'ID'], axis=1, inplace=True)\n",
    "# test_t = transform_dataset(test)\n",
    "dataset.reset_index()\n",
    "dataset.head(3)"
   ]
  },
  {
   "cell_type": "code",
   "execution_count": 453,
   "metadata": {
    "collapsed": false
   },
   "outputs": [
    {
     "data": {
      "text/plain": [
       "((38185, 10), (11456, 10), (11456, 8))"
      ]
     },
     "execution_count": 453,
     "metadata": {},
     "output_type": "execute_result"
    }
   ],
   "source": [
    "dataset.shape, dataset[dataset['Train'] == False].shape, test.shape"
   ]
  },
  {
   "cell_type": "markdown",
   "metadata": {},
   "source": [
    "Is there any empty values?"
   ]
  },
  {
   "cell_type": "code",
   "execution_count": 454,
   "metadata": {
    "collapsed": false
   },
   "outputs": [
    {
     "data": {
      "text/plain": [
       "AgeuponOutcome    False\n",
       "AnimalType        False\n",
       "Breed             False\n",
       "Color             False\n",
       "DateTime          False\n",
       "Name               True\n",
       "OutcomeSubtype     True\n",
       "OutcomeType        True\n",
       "SexuponOutcome     True\n",
       "Train             False\n",
       "dtype: bool"
      ]
     },
     "execution_count": 454,
     "metadata": {},
     "output_type": "execute_result"
    }
   ],
   "source": [
    "dataset.isnull().any()"
   ]
  },
  {
   "cell_type": "markdown",
   "metadata": {},
   "source": [
    "We want to split all mixed breeds. Breed column contains a low number of strings like \"Black/Tan Hound Mix\" so we will remove colors fom those so we can split all values as we wish"
   ]
  },
  {
   "cell_type": "code",
   "execution_count": 455,
   "metadata": {
    "collapsed": false
   },
   "outputs": [],
   "source": [
    "import re\n",
    "\n",
    "# First we remove \"Mix\" from all breeds and add additional categorical variable to the dataset\n",
    "dataset[\"Mix\"] = False\n",
    "dataset.loc[dataset[\"Breed\"].str.contains(\"Mix\"), \"Mix\"] = True\n",
    "breeds = dataset[\"Breed\"].apply(lambda x: x.split(\" Mix\")[0])\n",
    "\n",
    "# Next we remove all of the colors which cause problems when we try to split mixed breeds \n",
    "breeds = breeds.apply(lambda x: re.sub('Black\\s?|Tan\\s?', '', x))\n",
    "\n",
    "# After that let's remove dirty substrings left from previous replacements\n",
    "breeds = breeds.apply(lambda x: re.sub('^/', '', x))\n",
    "breeds = breeds.str.replace(\"//\", \"\")\n",
    "\n",
    "# Finally, lets split the breeds and modify out dataset\n",
    "breeds = breeds.apply(lambda x: pd.Series(x.split(\"/\")))\n",
    "breeds.columns = ['Breed', 'SecondaryBreed']\n",
    "\n",
    "dataset.drop('Breed', inplace=True, axis = 1)\n",
    "dataset = pd.concat([dataset, breeds], axis = 1)"
   ]
  },
  {
   "cell_type": "code",
   "execution_count": 456,
   "metadata": {
    "collapsed": false
   },
   "outputs": [
    {
     "data": {
      "text/html": [
       "<div>\n",
       "<table border=\"1\" class=\"dataframe\">\n",
       "  <thead>\n",
       "    <tr style=\"text-align: right;\">\n",
       "      <th></th>\n",
       "      <th>Breed</th>\n",
       "      <th>SecondaryBreed</th>\n",
       "    </tr>\n",
       "  </thead>\n",
       "  <tbody>\n",
       "    <tr>\n",
       "      <th>0</th>\n",
       "      <td>Shetland Sheepdog</td>\n",
       "      <td>NaN</td>\n",
       "    </tr>\n",
       "    <tr>\n",
       "      <th>1</th>\n",
       "      <td>Domestic Shorthair</td>\n",
       "      <td>NaN</td>\n",
       "    </tr>\n",
       "  </tbody>\n",
       "</table>\n",
       "</div>"
      ],
      "text/plain": [
       "                Breed SecondaryBreed\n",
       "0   Shetland Sheepdog            NaN\n",
       "1  Domestic Shorthair            NaN"
      ]
     },
     "execution_count": 456,
     "metadata": {},
     "output_type": "execute_result"
    }
   ],
   "source": [
    "breeds.head(2)"
   ]
  },
  {
   "cell_type": "code",
   "execution_count": 457,
   "metadata": {
    "collapsed": false
   },
   "outputs": [
    {
     "data": {
      "text/html": [
       "<div>\n",
       "<table border=\"1\" class=\"dataframe\">\n",
       "  <thead>\n",
       "    <tr style=\"text-align: right;\">\n",
       "      <th></th>\n",
       "      <th>AgeuponOutcome</th>\n",
       "      <th>AnimalType</th>\n",
       "      <th>Color</th>\n",
       "      <th>DateTime</th>\n",
       "      <th>Name</th>\n",
       "      <th>OutcomeSubtype</th>\n",
       "      <th>OutcomeType</th>\n",
       "      <th>SexuponOutcome</th>\n",
       "      <th>Train</th>\n",
       "      <th>Mix</th>\n",
       "      <th>Breed</th>\n",
       "      <th>SecondaryBreed</th>\n",
       "    </tr>\n",
       "  </thead>\n",
       "  <tbody>\n",
       "    <tr>\n",
       "      <th>0</th>\n",
       "      <td>365.0</td>\n",
       "      <td>Dog</td>\n",
       "      <td>Brown/White</td>\n",
       "      <td>2014-02-12 18:22:00</td>\n",
       "      <td>Hambone</td>\n",
       "      <td>NaN</td>\n",
       "      <td>Return_to_owner</td>\n",
       "      <td>Neutered Male</td>\n",
       "      <td>True</td>\n",
       "      <td>True</td>\n",
       "      <td>Shetland Sheepdog</td>\n",
       "      <td>NaN</td>\n",
       "    </tr>\n",
       "    <tr>\n",
       "      <th>1</th>\n",
       "      <td>365.0</td>\n",
       "      <td>Cat</td>\n",
       "      <td>Cream Tabby</td>\n",
       "      <td>2013-10-13 12:44:00</td>\n",
       "      <td>Emily</td>\n",
       "      <td>Suffering</td>\n",
       "      <td>Euthanasia</td>\n",
       "      <td>Spayed Female</td>\n",
       "      <td>True</td>\n",
       "      <td>True</td>\n",
       "      <td>Domestic Shorthair</td>\n",
       "      <td>NaN</td>\n",
       "    </tr>\n",
       "    <tr>\n",
       "      <th>2</th>\n",
       "      <td>730.0</td>\n",
       "      <td>Dog</td>\n",
       "      <td>Blue/White</td>\n",
       "      <td>2015-01-31 12:28:00</td>\n",
       "      <td>Pearce</td>\n",
       "      <td>Foster</td>\n",
       "      <td>Adoption</td>\n",
       "      <td>Neutered Male</td>\n",
       "      <td>True</td>\n",
       "      <td>True</td>\n",
       "      <td>Pit Bull</td>\n",
       "      <td>NaN</td>\n",
       "    </tr>\n",
       "  </tbody>\n",
       "</table>\n",
       "</div>"
      ],
      "text/plain": [
       "   AgeuponOutcome AnimalType        Color             DateTime     Name  \\\n",
       "0           365.0        Dog  Brown/White  2014-02-12 18:22:00  Hambone   \n",
       "1           365.0        Cat  Cream Tabby  2013-10-13 12:44:00    Emily   \n",
       "2           730.0        Dog   Blue/White  2015-01-31 12:28:00   Pearce   \n",
       "\n",
       "  OutcomeSubtype      OutcomeType SexuponOutcome Train   Mix  \\\n",
       "0            NaN  Return_to_owner  Neutered Male  True  True   \n",
       "1      Suffering       Euthanasia  Spayed Female  True  True   \n",
       "2         Foster         Adoption  Neutered Male  True  True   \n",
       "\n",
       "                Breed SecondaryBreed  \n",
       "0   Shetland Sheepdog            NaN  \n",
       "1  Domestic Shorthair            NaN  \n",
       "2            Pit Bull            NaN  "
      ]
     },
     "execution_count": 457,
     "metadata": {},
     "output_type": "execute_result"
    }
   ],
   "source": [
    "# dataset.reset_index(inplace=True)\n",
    "dataset.head(3)"
   ]
  },
  {
   "cell_type": "markdown",
   "metadata": {},
   "source": [
    "Now we split DateTime to several features"
   ]
  },
  {
   "cell_type": "code",
   "execution_count": 458,
   "metadata": {
    "collapsed": false
   },
   "outputs": [],
   "source": [
    "from datetime import *\n",
    "\n",
    "dates = dataset['DateTime'].apply(lambda x : datetime.strptime(x, \"%Y-%m-%d %H:%M:%S\"))\n",
    "\n",
    "def time_of_day(hour):\n",
    "    if hour > 7 and hour <= 11:\n",
    "        return \"morning\"\n",
    "    elif hour > 11 and hour <= 18:\n",
    "        return \"day\"\n",
    "    elif hour > 18 and hour <= 22:\n",
    "        return \"evening\"\n",
    "    else:\n",
    "        return \"night\"\n",
    "\n",
    "dataset[\"Year\"] = dates.apply(lambda x: x.year)\n",
    "dataset[\"Month\"] = dates.apply(lambda x: x.month)\n",
    "dataset[\"TimeOfDay\"] = dates.apply(lambda x: time_of_day(x.hour))\n",
    "dataset.drop(\"DateTime\", axis=1, inplace=True)"
   ]
  },
  {
   "cell_type": "markdown",
   "metadata": {},
   "source": [
    "Name can be converted to HasName categorical feature which will be more useful"
   ]
  },
  {
   "cell_type": "code",
   "execution_count": 459,
   "metadata": {
    "collapsed": false
   },
   "outputs": [],
   "source": [
    "dataset['HasName'] = dataset['Name'].isnull()\n",
    "dataset.drop(['Name', 'OutcomeSubtype'], axis=1, inplace=True)"
   ]
  },
  {
   "cell_type": "markdown",
   "metadata": {},
   "source": [
    "There will probaby be way to much features for colors, so we will transform them too"
   ]
  },
  {
   "cell_type": "code",
   "execution_count": 460,
   "metadata": {
    "collapsed": false
   },
   "outputs": [
    {
     "data": {
      "text/plain": [
       "(411,)"
      ]
     },
     "execution_count": 460,
     "metadata": {},
     "output_type": "execute_result"
    }
   ],
   "source": [
    "pd.value_counts(dataset['Color']).shape"
   ]
  },
  {
   "cell_type": "markdown",
   "metadata": {},
   "source": [
    "57 + 47 categorical features instead of 411, nice improvement"
   ]
  },
  {
   "cell_type": "code",
   "execution_count": 461,
   "metadata": {
    "collapsed": false
   },
   "outputs": [
    {
     "data": {
      "text/plain": [
       "(57, 47)"
      ]
     },
     "execution_count": 461,
     "metadata": {},
     "output_type": "execute_result"
    }
   ],
   "source": [
    "split_colors = pd.DataFrame(dataset['Color'].str.split('/').tolist(), columns=[\"Color1\", \"Color2\"])\n",
    "dataset.drop('Color', axis = 1, inplace=True)\n",
    "dataset = dataset.join(split_colors)\n",
    "\n",
    "len(split_colors['Color1'].unique()), len(split_colors['Color2'].unique())"
   ]
  },
  {
   "cell_type": "code",
   "execution_count": 462,
   "metadata": {
    "collapsed": false
   },
   "outputs": [
    {
     "data": {
      "text/plain": [
       "Neutered Male    14014\n",
       "Spayed Female    12633\n",
       "Intact Female     5004\n",
       "Intact Male       4985\n",
       "Unknown           1548\n",
       "Name: SexuponOutcome, dtype: int64"
      ]
     },
     "execution_count": 462,
     "metadata": {},
     "output_type": "execute_result"
    }
   ],
   "source": [
    "dataset['SexuponOutcome'].value_counts()"
   ]
  },
  {
   "cell_type": "code",
   "execution_count": 463,
   "metadata": {
    "collapsed": false
   },
   "outputs": [],
   "source": [
    "dataset['SexuponOutcome'].fillna('Neutered Male', inplace=True)"
   ]
  },
  {
   "cell_type": "code",
   "execution_count": 464,
   "metadata": {
    "collapsed": false
   },
   "outputs": [],
   "source": [
    "sex = pd.DataFrame(dataset['SexuponOutcome'].str.split(\" \").tolist(), columns=[\"Sterialized\", \"Sex\"])\n",
    "sex.head(2)\n",
    "dataset = dataset.join(sex)\n",
    "dataset.drop('SexuponOutcome', axis = 1, inplace=True)"
   ]
  },
  {
   "cell_type": "markdown",
   "metadata": {},
   "source": [
    "Convert AnimalType to boolean feature"
   ]
  },
  {
   "cell_type": "code",
   "execution_count": 465,
   "metadata": {
    "collapsed": false
   },
   "outputs": [],
   "source": [
    "dataset['IsDog'] = dataset['AnimalType'].apply(lambda x: x == \"Dog\")\n",
    "dataset['IsMale'] = dataset['Sex'].apply(lambda x: x == \"Male\")\n",
    "dataset.drop(['AnimalType', 'Sex'], axis = 1, inplace = True)"
   ]
  },
  {
   "cell_type": "code",
   "execution_count": 466,
   "metadata": {
    "collapsed": false
   },
   "outputs": [
    {
     "data": {
      "text/html": [
       "<div>\n",
       "<table border=\"1\" class=\"dataframe\">\n",
       "  <thead>\n",
       "    <tr style=\"text-align: right;\">\n",
       "      <th></th>\n",
       "      <th>AgeuponOutcome</th>\n",
       "      <th>OutcomeType</th>\n",
       "      <th>Train</th>\n",
       "      <th>Mix</th>\n",
       "      <th>Year</th>\n",
       "      <th>Month</th>\n",
       "      <th>HasName</th>\n",
       "      <th>Breed_Abyssinian</th>\n",
       "      <th>Breed_Affenpinscher</th>\n",
       "      <th>Breed_Afghan Hound</th>\n",
       "      <th>...</th>\n",
       "      <th>SecondaryBreed_Yorkshire</th>\n",
       "      <th>SecondaryBreed_Yorkshire Terrier</th>\n",
       "      <th>Sterialized_Intact</th>\n",
       "      <th>Sterialized_Neutered</th>\n",
       "      <th>Sterialized_Spayed</th>\n",
       "      <th>Sterialized_Unknown</th>\n",
       "      <th>TimeOfDay_day</th>\n",
       "      <th>TimeOfDay_evening</th>\n",
       "      <th>TimeOfDay_morning</th>\n",
       "      <th>TimeOfDay_night</th>\n",
       "    </tr>\n",
       "  </thead>\n",
       "  <tbody>\n",
       "    <tr>\n",
       "      <th>0</th>\n",
       "      <td>365.0</td>\n",
       "      <td>Return_to_owner</td>\n",
       "      <td>True</td>\n",
       "      <td>True</td>\n",
       "      <td>2014</td>\n",
       "      <td>2</td>\n",
       "      <td>False</td>\n",
       "      <td>0.0</td>\n",
       "      <td>0.0</td>\n",
       "      <td>0.0</td>\n",
       "      <td>...</td>\n",
       "      <td>0.0</td>\n",
       "      <td>0.0</td>\n",
       "      <td>0.0</td>\n",
       "      <td>1.0</td>\n",
       "      <td>0.0</td>\n",
       "      <td>0.0</td>\n",
       "      <td>1.0</td>\n",
       "      <td>0.0</td>\n",
       "      <td>0.0</td>\n",
       "      <td>0.0</td>\n",
       "    </tr>\n",
       "    <tr>\n",
       "      <th>0</th>\n",
       "      <td>310.0</td>\n",
       "      <td>NaN</td>\n",
       "      <td>False</td>\n",
       "      <td>True</td>\n",
       "      <td>2015</td>\n",
       "      <td>10</td>\n",
       "      <td>False</td>\n",
       "      <td>0.0</td>\n",
       "      <td>0.0</td>\n",
       "      <td>0.0</td>\n",
       "      <td>...</td>\n",
       "      <td>0.0</td>\n",
       "      <td>0.0</td>\n",
       "      <td>0.0</td>\n",
       "      <td>1.0</td>\n",
       "      <td>0.0</td>\n",
       "      <td>0.0</td>\n",
       "      <td>1.0</td>\n",
       "      <td>0.0</td>\n",
       "      <td>0.0</td>\n",
       "      <td>0.0</td>\n",
       "    </tr>\n",
       "    <tr>\n",
       "      <th>1</th>\n",
       "      <td>365.0</td>\n",
       "      <td>Euthanasia</td>\n",
       "      <td>True</td>\n",
       "      <td>True</td>\n",
       "      <td>2013</td>\n",
       "      <td>10</td>\n",
       "      <td>False</td>\n",
       "      <td>0.0</td>\n",
       "      <td>0.0</td>\n",
       "      <td>0.0</td>\n",
       "      <td>...</td>\n",
       "      <td>0.0</td>\n",
       "      <td>0.0</td>\n",
       "      <td>1.0</td>\n",
       "      <td>0.0</td>\n",
       "      <td>0.0</td>\n",
       "      <td>0.0</td>\n",
       "      <td>1.0</td>\n",
       "      <td>0.0</td>\n",
       "      <td>0.0</td>\n",
       "      <td>0.0</td>\n",
       "    </tr>\n",
       "  </tbody>\n",
       "</table>\n",
       "<p>3 rows × 511 columns</p>\n",
       "</div>"
      ],
      "text/plain": [
       "   AgeuponOutcome      OutcomeType  Train   Mix  Year  Month HasName  \\\n",
       "0           365.0  Return_to_owner   True  True  2014      2   False   \n",
       "0           310.0              NaN  False  True  2015     10   False   \n",
       "1           365.0       Euthanasia   True  True  2013     10   False   \n",
       "\n",
       "   Breed_Abyssinian  Breed_Affenpinscher  Breed_Afghan Hound       ...         \\\n",
       "0               0.0                  0.0                 0.0       ...          \n",
       "0               0.0                  0.0                 0.0       ...          \n",
       "1               0.0                  0.0                 0.0       ...          \n",
       "\n",
       "   SecondaryBreed_Yorkshire  SecondaryBreed_Yorkshire Terrier  \\\n",
       "0                       0.0                               0.0   \n",
       "0                       0.0                               0.0   \n",
       "1                       0.0                               0.0   \n",
       "\n",
       "   Sterialized_Intact  Sterialized_Neutered  Sterialized_Spayed  \\\n",
       "0                 0.0                   1.0                 0.0   \n",
       "0                 0.0                   1.0                 0.0   \n",
       "1                 1.0                   0.0                 0.0   \n",
       "\n",
       "   Sterialized_Unknown  TimeOfDay_day  TimeOfDay_evening  TimeOfDay_morning  \\\n",
       "0                  0.0            1.0                0.0                0.0   \n",
       "0                  0.0            1.0                0.0                0.0   \n",
       "1                  0.0            1.0                0.0                0.0   \n",
       "\n",
       "   TimeOfDay_night  \n",
       "0              0.0  \n",
       "0              0.0  \n",
       "1              0.0  \n",
       "\n",
       "[3 rows x 511 columns]"
      ]
     },
     "execution_count": 466,
     "metadata": {},
     "output_type": "execute_result"
    }
   ],
   "source": [
    "cols = dataset.columns.difference([\"Name\", \"AgeuponOutcome\", \"OutcomeType\", \"index\", \"Mix\", \"Month\", \"Train\", \"Year\", \"level_0\", \"AnimalType\", \"HasName\"])\n",
    "dataset_d = pd.get_dummies(dataset, columns = cols)\n",
    "dataset_d.head(3)"
   ]
  },
  {
   "cell_type": "code",
   "execution_count": 467,
   "metadata": {
    "collapsed": false
   },
   "outputs": [
    {
     "data": {
      "text/html": [
       "<div>\n",
       "<table border=\"1\" class=\"dataframe\">\n",
       "  <thead>\n",
       "    <tr style=\"text-align: right;\">\n",
       "      <th></th>\n",
       "      <th>OutcomeType</th>\n",
       "    </tr>\n",
       "  </thead>\n",
       "  <tbody>\n",
       "    <tr>\n",
       "      <th>0</th>\n",
       "      <td>Return_to_owner</td>\n",
       "    </tr>\n",
       "  </tbody>\n",
       "</table>\n",
       "</div>"
      ],
      "text/plain": [
       "       OutcomeType\n",
       "0  Return_to_owner"
      ]
     },
     "execution_count": 467,
     "metadata": {},
     "output_type": "execute_result"
    }
   ],
   "source": [
    "# dataset_d.drop(['index'], axis=1, inplace=True)\n",
    "dataset_d.loc[:, dataset_d.columns.str.contains(\"OutcomeType\")].head(1)"
   ]
  },
  {
   "cell_type": "markdown",
   "metadata": {},
   "source": [
    "Now we fit XGBoost model on full dataset in order to perform feature selection"
   ]
  },
  {
   "cell_type": "code",
   "execution_count": 468,
   "metadata": {
    "collapsed": false
   },
   "outputs": [
    {
     "name": "stderr",
     "output_type": "stream",
     "text": [
      "/home/kdubovikov/opt/anaconda3/lib/python3.5/site-packages/ipykernel/__main__.py:8: SettingWithCopyWarning: \n",
      "A value is trying to be set on a copy of a slice from a DataFrame\n",
      "\n",
      "See the caveats in the documentation: http://pandas.pydata.org/pandas-docs/stable/indexing.html#indexing-view-versus-copy\n",
      "/home/kdubovikov/opt/anaconda3/lib/python3.5/site-packages/ipykernel/__main__.py:9: SettingWithCopyWarning: \n",
      "A value is trying to be set on a copy of a slice from a DataFrame\n",
      "\n",
      "See the caveats in the documentation: http://pandas.pydata.org/pandas-docs/stable/indexing.html#indexing-view-versus-copy\n"
     ]
    },
    {
     "data": {
      "text/plain": [
       "((26729, 509), (11456, 509))"
      ]
     },
     "execution_count": 468,
     "metadata": {},
     "output_type": "execute_result"
    }
   ],
   "source": [
    "from sklearn.ensemble import ExtraTreesClassifier\n",
    "from sklearn.cross_validation import train_test_split\n",
    "from sklearn.cross_validation import StratifiedKFold\n",
    "\n",
    "train = dataset_d[dataset['Train'] == True]\n",
    "test = dataset_d[dataset['Train'] == False]\n",
    "\n",
    "train.drop('Train', axis=1, inplace=True)\n",
    "test.drop('Train', axis=1, inplace=True)\n",
    "\n",
    "train_x = train.loc[:, train.columns.difference([\"OutcomeType\"])]\n",
    "train_y = train.loc[:, \"OutcomeType\"]\n",
    "\n",
    "# train_x, val_x, train_y, val_y = train_test_split(train_x, train_y, test_size=0.3)\n",
    "\n",
    "test_x = test.loc[:, test.columns.difference([\"OutcomeType\"])]\n",
    "\n",
    "train_x.shape, test_x.shape"
   ]
  },
  {
   "cell_type": "markdown",
   "metadata": {},
   "source": [
    "Error estimates for the full model will help us not to throw off important features during selection "
   ]
  },
  {
   "cell_type": "code",
   "execution_count": 469,
   "metadata": {
    "collapsed": false
   },
   "outputs": [
    {
     "data": {
      "text/html": [
       "<div>\n",
       "<table border=\"1\" class=\"dataframe\">\n",
       "  <thead>\n",
       "    <tr style=\"text-align: right;\">\n",
       "      <th></th>\n",
       "      <th>test-merror-mean</th>\n",
       "      <th>test-merror-std</th>\n",
       "      <th>train-merror-mean</th>\n",
       "      <th>train-merror-std</th>\n",
       "    </tr>\n",
       "  </thead>\n",
       "  <tbody>\n",
       "    <tr>\n",
       "      <th>0</th>\n",
       "      <td>0.434509</td>\n",
       "      <td>0.008521</td>\n",
       "      <td>0.394861</td>\n",
       "      <td>0.003466</td>\n",
       "    </tr>\n",
       "    <tr>\n",
       "      <th>1</th>\n",
       "      <td>0.416888</td>\n",
       "      <td>0.010158</td>\n",
       "      <td>0.376061</td>\n",
       "      <td>0.012159</td>\n",
       "    </tr>\n",
       "    <tr>\n",
       "      <th>2</th>\n",
       "      <td>0.404878</td>\n",
       "      <td>0.009945</td>\n",
       "      <td>0.361770</td>\n",
       "      <td>0.009739</td>\n",
       "    </tr>\n",
       "    <tr>\n",
       "      <th>3</th>\n",
       "      <td>0.399192</td>\n",
       "      <td>0.008425</td>\n",
       "      <td>0.353511</td>\n",
       "      <td>0.004090</td>\n",
       "    </tr>\n",
       "    <tr>\n",
       "      <th>4</th>\n",
       "      <td>0.394702</td>\n",
       "      <td>0.007734</td>\n",
       "      <td>0.350518</td>\n",
       "      <td>0.002687</td>\n",
       "    </tr>\n",
       "    <tr>\n",
       "      <th>5</th>\n",
       "      <td>0.396498</td>\n",
       "      <td>0.007327</td>\n",
       "      <td>0.347946</td>\n",
       "      <td>0.000908</td>\n",
       "    </tr>\n",
       "    <tr>\n",
       "      <th>6</th>\n",
       "      <td>0.395001</td>\n",
       "      <td>0.007997</td>\n",
       "      <td>0.346880</td>\n",
       "      <td>0.002591</td>\n",
       "    </tr>\n",
       "    <tr>\n",
       "      <th>7</th>\n",
       "      <td>0.394889</td>\n",
       "      <td>0.009517</td>\n",
       "      <td>0.346319</td>\n",
       "      <td>0.003439</td>\n",
       "    </tr>\n",
       "    <tr>\n",
       "      <th>8</th>\n",
       "      <td>0.394777</td>\n",
       "      <td>0.007713</td>\n",
       "      <td>0.345243</td>\n",
       "      <td>0.003385</td>\n",
       "    </tr>\n",
       "    <tr>\n",
       "      <th>9</th>\n",
       "      <td>0.394478</td>\n",
       "      <td>0.007703</td>\n",
       "      <td>0.343494</td>\n",
       "      <td>0.003396</td>\n",
       "    </tr>\n",
       "  </tbody>\n",
       "</table>\n",
       "</div>"
      ],
      "text/plain": [
       "   test-merror-mean  test-merror-std  train-merror-mean  train-merror-std\n",
       "0          0.434509         0.008521           0.394861          0.003466\n",
       "1          0.416888         0.010158           0.376061          0.012159\n",
       "2          0.404878         0.009945           0.361770          0.009739\n",
       "3          0.399192         0.008425           0.353511          0.004090\n",
       "4          0.394702         0.007734           0.350518          0.002687\n",
       "5          0.396498         0.007327           0.347946          0.000908\n",
       "6          0.395001         0.007997           0.346880          0.002591\n",
       "7          0.394889         0.009517           0.346319          0.003439\n",
       "8          0.394777         0.007713           0.345243          0.003385\n",
       "9          0.394478         0.007703           0.343494          0.003396"
      ]
     },
     "execution_count": 469,
     "metadata": {},
     "output_type": "execute_result"
    }
   ],
   "source": [
    "import xgboost as xgb\n",
    "from sklearn import preprocessing\n",
    "from sklearn.preprocessing import LabelEncoder\n",
    "# xgb_param_dist = {\"n_estimators\"     : 150,\n",
    "#                   \"max_depth\"        : 8,\n",
    "#                   \"learning_rate\"    : 0.1,\n",
    "#                   \"colsample_bytree\" : 0.8}\n",
    "\n",
    "xgb_param_dist = {\"n_estimators\"     : 200,\n",
    "                  \"max_depth\"        : 10,\n",
    "                  \"learning_rate\"    : 0.08,\n",
    "                  \"colsample_bytree\" : 0.7,\n",
    "                  \"objective\"        : \"multi:softmax\",\n",
    "                  \"num_class\" : 5}\n",
    "\n",
    "enc = LabelEncoder()\n",
    "enc.fit(train_y)\n",
    "train_yt = enc.transform(train_y)\n",
    "xgb.cv(xgb_param_dist, xgb.DMatrix(train_x, train_yt), nfold=5)"
   ]
  },
  {
   "cell_type": "code",
   "execution_count": 470,
   "metadata": {
    "collapsed": false
   },
   "outputs": [],
   "source": [
    "# xgb_param_dist_sk = \n",
    "# xgb_param_dist.pop(\"num_class\", None)\n",
    "# cf = xgb.Booster(**xgb_param_dist)\n",
    "# %time cf.fit(train_x, train_y)\n",
    "\n",
    "bst = xgb.train(xgb_param_dist, xgb.DMatrix(train_x, train_yt))"
   ]
  },
  {
   "cell_type": "markdown",
   "metadata": {},
   "source": [
    "Let's get feature importance map and see top 100 features"
   ]
  },
  {
   "cell_type": "code",
   "execution_count": null,
   "metadata": {
    "collapsed": true
   },
   "outputs": [],
   "source": [
    "cf.booster().save_model('full.model')"
   ]
  },
  {
   "cell_type": "code",
   "execution_count": 471,
   "metadata": {
    "collapsed": false
   },
   "outputs": [
    {
     "data": {
      "text/plain": [
       "array([1750, 1245,  735,  428,  417,  341,  325,  287,  268,  228,  186,\n",
       "        183,  181,  180,  158,  156,  144,  139,  116,  109,  108,  107,\n",
       "        107,  100,   92,   90,   86,   85,   85,   83,   78,   77,   73,\n",
       "         65,   53,   50,   50,   48,   43,   40,   39,   39,   38,   38,\n",
       "         38,   37,   36,   36,   35,   35,   34,   33,   31,   31,   30,\n",
       "         29,   28,   28,   27,   26,   26,   26,   25,   23,   22,   22,\n",
       "         21,   21,   21,   20,   20,   18,   18,   17,   17,   16,   16,\n",
       "         15,   15,   15,   15,   14,   14,   14,   14,   14,   14,   14,\n",
       "         13,   13,   13,   13,   13,   13,   13,   11,   11,   11,   11,\n",
       "         10])"
      ]
     },
     "execution_count": 471,
     "metadata": {},
     "output_type": "execute_result"
    }
   ],
   "source": [
    "fscores = bst.get_fscore()\n",
    "# fscores = bst.get_fscore()\n",
    "np.sort(list(fscores.values()))[::-1][0:100]"
   ]
  },
  {
   "cell_type": "markdown",
   "metadata": {},
   "source": [
    "Perform feature selection based on a `fscore` threshold"
   ]
  },
  {
   "cell_type": "code",
   "execution_count": 472,
   "metadata": {
    "collapsed": false
   },
   "outputs": [
    {
     "name": "stdout",
     "output_type": "stream",
     "text": [
      "50.51% features left\n"
     ]
    }
   ],
   "source": [
    "from sklearn.feature_selection import SelectFromModel\n",
    "filtered_fscores = {k: v for k, v in fscores.items() if v > 10}\n",
    "\n",
    "print(\"{0:1.2f}% features left\".format((len(filtered_fscores) / len(fscores)) * 100))\n",
    "# model = SelectFromModel(cf ,prefit=True)\n",
    "# train_xr = model.transform(train_x)"
   ]
  },
  {
   "cell_type": "markdown",
   "metadata": {},
   "source": [
    "Estimate the new model"
   ]
  },
  {
   "cell_type": "code",
   "execution_count": 473,
   "metadata": {
    "collapsed": false
   },
   "outputs": [
    {
     "data": {
      "text/html": [
       "<div>\n",
       "<table border=\"1\" class=\"dataframe\">\n",
       "  <thead>\n",
       "    <tr style=\"text-align: right;\">\n",
       "      <th></th>\n",
       "      <th>test-merror-mean</th>\n",
       "      <th>test-merror-std</th>\n",
       "      <th>train-merror-mean</th>\n",
       "      <th>train-merror-std</th>\n",
       "    </tr>\n",
       "  </thead>\n",
       "  <tbody>\n",
       "    <tr>\n",
       "      <th>0</th>\n",
       "      <td>0.411688</td>\n",
       "      <td>0.005885</td>\n",
       "      <td>0.375004</td>\n",
       "      <td>0.005052</td>\n",
       "    </tr>\n",
       "    <tr>\n",
       "      <th>1</th>\n",
       "      <td>0.404579</td>\n",
       "      <td>0.006576</td>\n",
       "      <td>0.365642</td>\n",
       "      <td>0.005319</td>\n",
       "    </tr>\n",
       "    <tr>\n",
       "      <th>2</th>\n",
       "      <td>0.397396</td>\n",
       "      <td>0.007987</td>\n",
       "      <td>0.360966</td>\n",
       "      <td>0.004618</td>\n",
       "    </tr>\n",
       "    <tr>\n",
       "      <th>3</th>\n",
       "      <td>0.394328</td>\n",
       "      <td>0.008577</td>\n",
       "      <td>0.355962</td>\n",
       "      <td>0.006045</td>\n",
       "    </tr>\n",
       "    <tr>\n",
       "      <th>4</th>\n",
       "      <td>0.393355</td>\n",
       "      <td>0.009763</td>\n",
       "      <td>0.353100</td>\n",
       "      <td>0.005223</td>\n",
       "    </tr>\n",
       "    <tr>\n",
       "      <th>5</th>\n",
       "      <td>0.392832</td>\n",
       "      <td>0.007587</td>\n",
       "      <td>0.349649</td>\n",
       "      <td>0.004565</td>\n",
       "    </tr>\n",
       "    <tr>\n",
       "      <th>6</th>\n",
       "      <td>0.391934</td>\n",
       "      <td>0.008113</td>\n",
       "      <td>0.347226</td>\n",
       "      <td>0.004189</td>\n",
       "    </tr>\n",
       "    <tr>\n",
       "      <th>7</th>\n",
       "      <td>0.391410</td>\n",
       "      <td>0.009768</td>\n",
       "      <td>0.346019</td>\n",
       "      <td>0.004753</td>\n",
       "    </tr>\n",
       "    <tr>\n",
       "      <th>8</th>\n",
       "      <td>0.390961</td>\n",
       "      <td>0.008086</td>\n",
       "      <td>0.345197</td>\n",
       "      <td>0.004084</td>\n",
       "    </tr>\n",
       "    <tr>\n",
       "      <th>9</th>\n",
       "      <td>0.390998</td>\n",
       "      <td>0.008220</td>\n",
       "      <td>0.343204</td>\n",
       "      <td>0.004283</td>\n",
       "    </tr>\n",
       "    <tr>\n",
       "      <th>10</th>\n",
       "      <td>0.390250</td>\n",
       "      <td>0.009736</td>\n",
       "      <td>0.341511</td>\n",
       "      <td>0.004290</td>\n",
       "    </tr>\n",
       "    <tr>\n",
       "      <th>11</th>\n",
       "      <td>0.389801</td>\n",
       "      <td>0.010061</td>\n",
       "      <td>0.340351</td>\n",
       "      <td>0.004034</td>\n",
       "    </tr>\n",
       "    <tr>\n",
       "      <th>12</th>\n",
       "      <td>0.390550</td>\n",
       "      <td>0.009525</td>\n",
       "      <td>0.339248</td>\n",
       "      <td>0.004304</td>\n",
       "    </tr>\n",
       "    <tr>\n",
       "      <th>13</th>\n",
       "      <td>0.389165</td>\n",
       "      <td>0.010042</td>\n",
       "      <td>0.338041</td>\n",
       "      <td>0.003530</td>\n",
       "    </tr>\n",
       "    <tr>\n",
       "      <th>14</th>\n",
       "      <td>0.389128</td>\n",
       "      <td>0.010818</td>\n",
       "      <td>0.336526</td>\n",
       "      <td>0.003338</td>\n",
       "    </tr>\n",
       "  </tbody>\n",
       "</table>\n",
       "</div>"
      ],
      "text/plain": [
       "    test-merror-mean  test-merror-std  train-merror-mean  train-merror-std\n",
       "0           0.411688         0.005885           0.375004          0.005052\n",
       "1           0.404579         0.006576           0.365642          0.005319\n",
       "2           0.397396         0.007987           0.360966          0.004618\n",
       "3           0.394328         0.008577           0.355962          0.006045\n",
       "4           0.393355         0.009763           0.353100          0.005223\n",
       "5           0.392832         0.007587           0.349649          0.004565\n",
       "6           0.391934         0.008113           0.347226          0.004189\n",
       "7           0.391410         0.009768           0.346019          0.004753\n",
       "8           0.390961         0.008086           0.345197          0.004084\n",
       "9           0.390998         0.008220           0.343204          0.004283\n",
       "10          0.390250         0.009736           0.341511          0.004290\n",
       "11          0.389801         0.010061           0.340351          0.004034\n",
       "12          0.390550         0.009525           0.339248          0.004304\n",
       "13          0.389165         0.010042           0.338041          0.003530\n",
       "14          0.389128         0.010818           0.336526          0.003338"
      ]
     },
     "execution_count": 473,
     "metadata": {},
     "output_type": "execute_result"
    }
   ],
   "source": [
    "filtered_cols = list(filtered_fscores.keys())\n",
    "train_xr = train_x[filtered_cols]\n",
    "# val_xr = val_x[filtered_cols]\n",
    "test_xr = test_x[filtered_cols]\n",
    "\n",
    "# cfr = xgb.XGBClassifier(**xgb_param_dist)\n",
    "# cfr.fit(train_xr, train_y)\n",
    "xgb.cv(xgb_param_dist, xgb.DMatrix(train_xr, train_yt), 15, nfold=5)"
   ]
  },
  {
   "cell_type": "markdown",
   "metadata": {},
   "source": [
    "Now it is time for hyperparameter optimization"
   ]
  },
  {
   "cell_type": "code",
   "execution_count": 157,
   "metadata": {
    "collapsed": false
   },
   "outputs": [
    {
     "name": "stdout",
     "output_type": "stream",
     "text": [
      "Fitting 3 folds for each of 30 candidates, totalling 90 fits\n"
     ]
    },
    {
     "name": "stderr",
     "output_type": "stream",
     "text": [
      "[Parallel(n_jobs=8)]: Done  34 tasks      | elapsed: 35.6min\n",
      "[Parallel(n_jobs=8)]: Done  90 out of  90 | elapsed: 76.8min finished\n"
     ]
    },
    {
     "name": "stdout",
     "output_type": "stream",
     "text": [
      "CPU times: user 1min 28s, sys: 2.35 s, total: 1min 31s\n",
      "Wall time: 1h 16min 58s\n",
      "Best randomized search score - 0.605478374836\n"
     ]
    }
   ],
   "source": [
    "from scipy.stats import uniform\n",
    "from scipy.stats import randint as sp_randint\n",
    "from sklearn.grid_search import RandomizedSearchCV\n",
    "\n",
    "xgb_param_dist = {\"n_estimators\" : np.arange(10, 250, 10),\n",
    "                    \"max_depth\": sp_randint(2, 31),\n",
    "                    \"learning_rate\" : uniform(loc = 0.01, scale=0.2),\n",
    "                    \"colsample_bytree\" : uniform(loc = 0.3, scale = 0.7),\n",
    "                    \"subsample\" : uniform(loc = 0.0, scale = 0.7),\n",
    "                    \"objective\" : \"multi:softmax\"}\n",
    "\n",
    "xgb_clf = xgb.XGBClassifier()\n",
    "n_iter_search = 30\n",
    "\n",
    "xgb_random_search = RandomizedSearchCV(xgb_clf, param_distributions = xgb_param_dist,\n",
    "                                       n_iter = n_iter_search, random_state = 123, n_jobs = 8, verbose = 1)\n",
    "%time xgb_random_search.fit(train_xr, train_yt)\n",
    "                                       \n",
    "xgb_clf = xgb_random_search.best_estimator_\n",
    "\n",
    "print(\"Best randomized search score - %s\" % xgb_random_search.best_score_)"
   ]
  },
  {
   "cell_type": "code",
   "execution_count": 148,
   "metadata": {
    "collapsed": false
   },
   "outputs": [],
   "source": [
    "xgb_clf.booster().save_model('random_search_best_est.model')"
   ]
  },
  {
   "cell_type": "code",
   "execution_count": 158,
   "metadata": {
    "collapsed": false
   },
   "outputs": [
    {
     "data": {
      "text/plain": [
       "array([['Adoption', 'Adoption', 'Adoption', 'Adoption', 'Adoption'],\n",
       "       ['Adoption', 'Adoption', 'Adoption', 'Adoption', 'Adoption'],\n",
       "       ['Adoption', 'Adoption', 'Adoption', 'Adoption', 'Adoption'],\n",
       "       ..., \n",
       "       ['Adoption', 'Adoption', 'Adoption', 'Adoption', 'Adoption'],\n",
       "       ['Adoption', 'Adoption', 'Adoption', 'Adoption', 'Adoption'],\n",
       "       ['Adoption', 'Adoption', 'Adoption', 'Adoption', 'Adoption']], dtype=object)"
      ]
     },
     "execution_count": 158,
     "metadata": {},
     "output_type": "execute_result"
    }
   ],
   "source": [
    "import xgboost as xgb\n",
    "best_m = xgb.Booster({'nthread' : 8}) #init model\n",
    "best_m.load_model('/home/kdubovikov/MEGA/random_search_best_est.model') # load data\n",
    "\n",
    "pred = best_m.predict(xgb.DMatrix(test_x))\n",
    "enc.inverse_transform(pred.astype(int))"
   ]
  },
  {
   "cell_type": "code",
   "execution_count": 171,
   "metadata": {
    "collapsed": false
   },
   "outputs": [
    {
     "data": {
      "text/plain": [
       "{'colsample_bytree': 0.7082178433723527,\n",
       " 'learning_rate': 0.062116170866098705,\n",
       " 'max_depth': 7,\n",
       " 'n_estimators': 50,\n",
       " 'num_class': 5,\n",
       " 'objective': 'multi:softmax',\n",
       " 'subsample': 0.31904123137425433}"
      ]
     },
     "execution_count": 171,
     "metadata": {},
     "output_type": "execute_result"
    }
   ],
   "source": [
    "xgb_random_search.best_params_"
   ]
  },
  {
   "cell_type": "code",
   "execution_count": 474,
   "metadata": {
    "collapsed": false
   },
   "outputs": [
    {
     "name": "stdout",
     "output_type": "stream",
     "text": [
      "CPU times: user 50.8 s, sys: 604 ms, total: 51.4 s\n",
      "Wall time: 6.9 s\n"
     ]
    },
    {
     "data": {
      "text/html": [
       "<div>\n",
       "<table border=\"1\" class=\"dataframe\">\n",
       "  <thead>\n",
       "    <tr style=\"text-align: right;\">\n",
       "      <th></th>\n",
       "      <th>test-merror-mean</th>\n",
       "      <th>test-merror-std</th>\n",
       "      <th>train-merror-mean</th>\n",
       "      <th>train-merror-std</th>\n",
       "    </tr>\n",
       "  </thead>\n",
       "  <tbody>\n",
       "    <tr>\n",
       "      <th>0</th>\n",
       "      <td>0.427251</td>\n",
       "      <td>0.007060</td>\n",
       "      <td>0.406244</td>\n",
       "      <td>0.002900</td>\n",
       "    </tr>\n",
       "    <tr>\n",
       "      <th>1</th>\n",
       "      <td>0.408171</td>\n",
       "      <td>0.008911</td>\n",
       "      <td>0.386715</td>\n",
       "      <td>0.005646</td>\n",
       "    </tr>\n",
       "    <tr>\n",
       "      <th>2</th>\n",
       "      <td>0.401549</td>\n",
       "      <td>0.007607</td>\n",
       "      <td>0.379765</td>\n",
       "      <td>0.007178</td>\n",
       "    </tr>\n",
       "    <tr>\n",
       "      <th>3</th>\n",
       "      <td>0.400614</td>\n",
       "      <td>0.006822</td>\n",
       "      <td>0.377034</td>\n",
       "      <td>0.006619</td>\n",
       "    </tr>\n",
       "    <tr>\n",
       "      <th>4</th>\n",
       "      <td>0.398743</td>\n",
       "      <td>0.007662</td>\n",
       "      <td>0.375351</td>\n",
       "      <td>0.004983</td>\n",
       "    </tr>\n",
       "    <tr>\n",
       "      <th>5</th>\n",
       "      <td>0.397733</td>\n",
       "      <td>0.007002</td>\n",
       "      <td>0.372470</td>\n",
       "      <td>0.004635</td>\n",
       "    </tr>\n",
       "    <tr>\n",
       "      <th>6</th>\n",
       "      <td>0.396947</td>\n",
       "      <td>0.007669</td>\n",
       "      <td>0.371656</td>\n",
       "      <td>0.003620</td>\n",
       "    </tr>\n",
       "    <tr>\n",
       "      <th>7</th>\n",
       "      <td>0.395563</td>\n",
       "      <td>0.007639</td>\n",
       "      <td>0.370468</td>\n",
       "      <td>0.003319</td>\n",
       "    </tr>\n",
       "    <tr>\n",
       "      <th>8</th>\n",
       "      <td>0.396386</td>\n",
       "      <td>0.007279</td>\n",
       "      <td>0.369795</td>\n",
       "      <td>0.003685</td>\n",
       "    </tr>\n",
       "    <tr>\n",
       "      <th>9</th>\n",
       "      <td>0.396274</td>\n",
       "      <td>0.008441</td>\n",
       "      <td>0.367672</td>\n",
       "      <td>0.003782</td>\n",
       "    </tr>\n",
       "  </tbody>\n",
       "</table>\n",
       "</div>"
      ],
      "text/plain": [
       "   test-merror-mean  test-merror-std  train-merror-mean  train-merror-std\n",
       "0          0.427251         0.007060           0.406244          0.002900\n",
       "1          0.408171         0.008911           0.386715          0.005646\n",
       "2          0.401549         0.007607           0.379765          0.007178\n",
       "3          0.400614         0.006822           0.377034          0.006619\n",
       "4          0.398743         0.007662           0.375351          0.004983\n",
       "5          0.397733         0.007002           0.372470          0.004635\n",
       "6          0.396947         0.007669           0.371656          0.003620\n",
       "7          0.395563         0.007639           0.370468          0.003319\n",
       "8          0.396386         0.007279           0.369795          0.003685\n",
       "9          0.396274         0.008441           0.367672          0.003782"
      ]
     },
     "execution_count": 474,
     "metadata": {},
     "output_type": "execute_result"
    }
   ],
   "source": [
    "#todo estimate\n",
    "\n",
    "best_params ={'colsample_bytree': 0.7082178433723527,\n",
    "             'learning_rate': 0.06,\n",
    "             'max_depth': 10,\n",
    "             'n_estimators': 50,\n",
    "             'num_class': 5,\n",
    "             'objective': 'multi:softmax',\n",
    "             'subsample': 0.3}\n",
    "best_params['num_class']= 5\n",
    "best_params['objective'] = 'multi:softmax'\n",
    "\n",
    "filtered_fscores_t = {k: v for k, v in fscores.items() if v > 0}\n",
    "filtered_cols_t = list(filtered_fscores_t.keys())\n",
    "train_xrt = train_x[filtered_cols_t]\n",
    "# val_xr = val_x[filtered_cols]\n",
    "test_xrt = test_x[filtered_cols_t]\n",
    "\n",
    "# cfr = xgb.XGBClassifier(**xgb_param_dist)\n",
    "# cfr.fit(train_xr, train_y)\n",
    "# xgb.cv(best_params, xgb.DMatrix(train_x, train_yt), 15, nfold=5)\n",
    "%time xgb.cv(best_params, xgb.DMatrix(train_xr, train_yt), nfold=5)\n",
    "\n"
   ]
  },
  {
   "cell_type": "code",
   "execution_count": 475,
   "metadata": {
    "collapsed": false
   },
   "outputs": [
    {
     "name": "stdout",
     "output_type": "stream",
     "text": [
      "CPU times: user 12.8 s, sys: 168 ms, total: 12.9 s\n",
      "Wall time: 1.71 s\n"
     ]
    },
    {
     "data": {
      "text/plain": [
       "array([ 0.,  2.,  3.,  4.], dtype=float32)"
      ]
     },
     "execution_count": 475,
     "metadata": {},
     "output_type": "execute_result"
    }
   ],
   "source": [
    "%time booster = xgb.train(best_params, xgb.DMatrix(train_xr, train_yt))\n",
    "np.unique(booster.predict(xgb.DMatrix(test_xr)))"
   ]
  },
  {
   "cell_type": "code",
   "execution_count": 476,
   "metadata": {
    "collapsed": false
   },
   "outputs": [
    {
     "data": {
      "text/plain": [
       "array(['Adoption', 'Euthanasia', 'Return_to_owner', 'Transfer'], dtype=object)"
      ]
     },
     "execution_count": 476,
     "metadata": {},
     "output_type": "execute_result"
    }
   ],
   "source": [
    "preds = booster.predict(xgb.DMatrix(test_xr))\n",
    "oh_results = enc.inverse_transform(preds.astype(int))\n",
    "np.unique(oh_results)"
   ]
  },
  {
   "cell_type": "code",
   "execution_count": 477,
   "metadata": {
    "collapsed": false
   },
   "outputs": [
    {
     "data": {
      "text/plain": [
       "array([[1, 0, 0, 0],\n",
       "       [1, 0, 0, 0],\n",
       "       [1, 0, 0, 0],\n",
       "       ..., \n",
       "       [0, 0, 0, 1],\n",
       "       [0, 0, 1, 0],\n",
       "       [0, 0, 1, 0]])"
      ]
     },
     "execution_count": 477,
     "metadata": {},
     "output_type": "execute_result"
    }
   ],
   "source": [
    "oh_enc = preprocessing.OneHotEncoder(sparse=False)\n",
    "results = oh_enc.fit_transform(preds.reshape(-1, 1))\n",
    "results = results.astype(int)\n",
    "results"
   ]
  },
  {
   "cell_type": "code",
   "execution_count": 482,
   "metadata": {
    "collapsed": false
   },
   "outputs": [],
   "source": [
    "# test_results = pd.read_csv(\"./test.csv\")\n",
    "# test_results['ID'] = test_results['ID'].astype(int)\n",
    "# final_results = pd.concat([test_results[\"ID\"], pd.DataFrame(results)], axis = 1)\n",
    "final_results = pd.DataFrame(results)\n",
    "final_results.columns = ['Adoption', 'Euthanasia', 'Return_to_owner', 'Transfer']\n",
    "final_results['Died'] = 0\n",
    "final_results.index.name = 'ID'\n",
    "final_results.index = final_results.index + 1\n",
    "\n",
    "final_results = final_results[['Adoption', 'Died', 'Euthanasia', 'Return_to_owner', 'Transfer']]\n",
    "\n",
    "final_results.to_csv('results.csv')"
   ]
  },
  {
   "cell_type": "code",
   "execution_count": 483,
   "metadata": {
    "collapsed": false
   },
   "outputs": [
    {
     "data": {
      "text/plain": [
       "(11456, 5)"
      ]
     },
     "execution_count": 483,
     "metadata": {},
     "output_type": "execute_result"
    }
   ],
   "source": [
    "final_results.shape"
   ]
  }
 ],
 "metadata": {
  "kernelspec": {
   "display_name": "Python 3",
   "language": "python",
   "name": "python3"
  },
  "language_info": {
   "codemirror_mode": {
    "name": "ipython",
    "version": 3
   },
   "file_extension": ".py",
   "mimetype": "text/x-python",
   "name": "python",
   "nbconvert_exporter": "python",
   "pygments_lexer": "ipython3",
   "version": "3.5.1"
  }
 },
 "nbformat": 4,
 "nbformat_minor": 0
}
