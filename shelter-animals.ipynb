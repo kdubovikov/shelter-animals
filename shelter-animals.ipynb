{
 "cells": [
  {
   "cell_type": "code",
   "execution_count": 1,
   "metadata": {
    "collapsed": true
   },
   "outputs": [],
   "source": [
    "import pandas as pd\n",
    "import matplotlib as plt\n",
    "import numpy as np\n",
    "\n",
    "%matplotlib inline"
   ]
  },
  {
   "cell_type": "code",
   "execution_count": 2,
   "metadata": {
    "collapsed": true
   },
   "outputs": [],
   "source": [
    "train = pd.read_csv(\"./train.csv\")\n",
    "test = pd.read_csv(\"./test.csv\")"
   ]
  },
  {
   "cell_type": "code",
   "execution_count": 3,
   "metadata": {
    "collapsed": false
   },
   "outputs": [
    {
     "data": {
      "text/plain": [
       "OutcomeSubtype    50.925961\n",
       "Name              28.773991\n",
       "AgeuponOutcome     0.067343\n",
       "SexuponOutcome     0.003741\n",
       "Color              0.000000\n",
       "Breed              0.000000\n",
       "AnimalType         0.000000\n",
       "OutcomeType        0.000000\n",
       "DateTime           0.000000\n",
       "AnimalID           0.000000\n",
       "dtype: float64"
      ]
     },
     "execution_count": 3,
     "metadata": {},
     "output_type": "execute_result"
    }
   ],
   "source": [
    "empty_percent = train.apply(pd.isnull, axis = 0).sum() / train.shape[0] * 100\n",
    "empty_percent.sort_values(ascending=False)"
   ]
  },
  {
   "cell_type": "code",
   "execution_count": 4,
   "metadata": {
    "collapsed": false
   },
   "outputs": [
    {
     "name": "stderr",
     "output_type": "stream",
     "text": [
      "/home/kdubovikov/opt/anaconda3/lib/python3.5/site-packages/pandas/core/indexing.py:461: SettingWithCopyWarning: \n",
      "A value is trying to be set on a copy of a slice from a DataFrame.\n",
      "Try using .loc[row_indexer,col_indexer] = value instead\n",
      "\n",
      "See the caveats in the documentation: http://pandas.pydata.org/pandas-docs/stable/indexing.html#indexing-view-versus-copy\n",
      "  self.obj[item] = s\n"
     ]
    },
    {
     "data": {
      "text/html": [
       "<div>\n",
       "<table border=\"1\" class=\"dataframe\">\n",
       "  <thead>\n",
       "    <tr style=\"text-align: right;\">\n",
       "      <th></th>\n",
       "      <th>AgeuponOutcome</th>\n",
       "      <th>AnimalType</th>\n",
       "      <th>Breed</th>\n",
       "      <th>Color</th>\n",
       "      <th>DateTime</th>\n",
       "      <th>Name</th>\n",
       "      <th>OutcomeSubtype</th>\n",
       "      <th>OutcomeType</th>\n",
       "      <th>SexuponOutcome</th>\n",
       "      <th>Train</th>\n",
       "    </tr>\n",
       "  </thead>\n",
       "  <tbody>\n",
       "    <tr>\n",
       "      <th>0</th>\n",
       "      <td>365.0</td>\n",
       "      <td>Dog</td>\n",
       "      <td>Shetland Sheepdog Mix</td>\n",
       "      <td>Brown/White</td>\n",
       "      <td>2014-02-12 18:22:00</td>\n",
       "      <td>Hambone</td>\n",
       "      <td>NaN</td>\n",
       "      <td>Return_to_owner</td>\n",
       "      <td>Neutered Male</td>\n",
       "      <td>True</td>\n",
       "    </tr>\n",
       "    <tr>\n",
       "      <th>1</th>\n",
       "      <td>365.0</td>\n",
       "      <td>Cat</td>\n",
       "      <td>Domestic Shorthair Mix</td>\n",
       "      <td>Cream Tabby</td>\n",
       "      <td>2013-10-13 12:44:00</td>\n",
       "      <td>Emily</td>\n",
       "      <td>Suffering</td>\n",
       "      <td>Euthanasia</td>\n",
       "      <td>Spayed Female</td>\n",
       "      <td>True</td>\n",
       "    </tr>\n",
       "    <tr>\n",
       "      <th>2</th>\n",
       "      <td>730.0</td>\n",
       "      <td>Dog</td>\n",
       "      <td>Pit Bull Mix</td>\n",
       "      <td>Blue/White</td>\n",
       "      <td>2015-01-31 12:28:00</td>\n",
       "      <td>Pearce</td>\n",
       "      <td>Foster</td>\n",
       "      <td>Adoption</td>\n",
       "      <td>Neutered Male</td>\n",
       "      <td>True</td>\n",
       "    </tr>\n",
       "  </tbody>\n",
       "</table>\n",
       "</div>"
      ],
      "text/plain": [
       "   AgeuponOutcome AnimalType                   Breed        Color  \\\n",
       "0           365.0        Dog   Shetland Sheepdog Mix  Brown/White   \n",
       "1           365.0        Cat  Domestic Shorthair Mix  Cream Tabby   \n",
       "2           730.0        Dog            Pit Bull Mix   Blue/White   \n",
       "\n",
       "              DateTime     Name OutcomeSubtype      OutcomeType  \\\n",
       "0  2014-02-12 18:22:00  Hambone            NaN  Return_to_owner   \n",
       "1  2013-10-13 12:44:00    Emily      Suffering       Euthanasia   \n",
       "2  2015-01-31 12:28:00   Pearce         Foster         Adoption   \n",
       "\n",
       "  SexuponOutcome Train  \n",
       "0  Neutered Male  True  \n",
       "1  Spayed Female  True  \n",
       "2  Neutered Male  True  "
      ]
     },
     "execution_count": 4,
     "metadata": {},
     "output_type": "execute_result"
    }
   ],
   "source": [
    "def transform_dates(val):\n",
    "#     print(float(val.split(\" \")[0]) * 365)\n",
    "#     print(val)\n",
    "    num_val = float(val.split(\" \")[0])\n",
    "    if \"year\" in val:\n",
    "        return num_val * 365\n",
    "    elif \"month\" in val:\n",
    "        return num_val * 31\n",
    "    elif \"week\" in val:\n",
    "        return num_val * 7\n",
    "\n",
    "\n",
    "def transform_dataset(df, columns_to_dropna=[\"AgeuponOutcome\", \"SexuponOutcome\"]):\n",
    "    result = df.dropna(subset=columns_to_dropna, axis=0)\n",
    "    result.loc[:, \"AgeuponOutcome\"] = result.loc[:, \"AgeuponOutcome\"].apply(transform_dates)\n",
    "    # result.drop(\\\"Name\\\")\n",
    "    return result\n",
    "\n",
    "train[\"Train\"] = True\n",
    "test[\"Train\"] = False\n",
    "train.drop('AnimalID', axis=1, inplace=True)\n",
    "test.drop('ID', axis=1, inplace=True)\n",
    "\n",
    "dataset = pd.concat([train, test])\n",
    "dataset = transform_dataset(dataset)\n",
    "# dataset.drop(['AnimalID', 'ID'], axis=1, inplace=True)\n",
    "# test_t = transform_dataset(test)\n",
    "dataset.head(3)"
   ]
  },
  {
   "cell_type": "markdown",
   "metadata": {},
   "source": [
    "Is there any empty values?"
   ]
  },
  {
   "cell_type": "code",
   "execution_count": 5,
   "metadata": {
    "collapsed": false
   },
   "outputs": [
    {
     "data": {
      "text/plain": [
       "AgeuponOutcome     True\n",
       "AnimalType        False\n",
       "Breed             False\n",
       "Color             False\n",
       "DateTime          False\n",
       "Name               True\n",
       "OutcomeSubtype     True\n",
       "OutcomeType        True\n",
       "SexuponOutcome    False\n",
       "Train             False\n",
       "dtype: bool"
      ]
     },
     "execution_count": 5,
     "metadata": {},
     "output_type": "execute_result"
    }
   ],
   "source": [
    "dataset.isnull().any()"
   ]
  },
  {
   "cell_type": "markdown",
   "metadata": {},
   "source": [
    "AgeuponOutcome needs fixing since it is qualitative variable"
   ]
  },
  {
   "cell_type": "code",
   "execution_count": 6,
   "metadata": {
    "collapsed": false
   },
   "outputs": [],
   "source": [
    "dataset[\"AgeuponOutcome\"].fillna(0, inplace=True)"
   ]
  },
  {
   "cell_type": "markdown",
   "metadata": {},
   "source": [
    "We want to split all mixed breeds. Breed column contains a low number of strings like \"Black/Tan Hound Mix\" so we will remove colors fom those so we can split all values as we wish"
   ]
  },
  {
   "cell_type": "code",
   "execution_count": 7,
   "metadata": {
    "collapsed": false
   },
   "outputs": [],
   "source": [
    "import re\n",
    "\n",
    "# First we remove \"Mix\" from all breeds and add additional categorical variable to the dataset\n",
    "dataset[\"Mix\"] = False\n",
    "dataset.loc[dataset[\"Breed\"].str.contains(\"Mix\"), \"Mix\"] = True\n",
    "breeds = dataset[\"Breed\"].apply(lambda x: x.split(\" Mix\")[0])\n",
    "\n",
    "# Next we remove all of the colors which cause problems when we try to split mixed breeds \n",
    "breeds = breeds.apply(lambda x: re.sub('Black\\s?|Tan\\s?', '', x))\n",
    "\n",
    "# After that let's remove dirty substrings left from previous replacements\n",
    "breeds = breeds.apply(lambda x: re.sub('^/', '', x))\n",
    "breeds = breeds.str.replace(\"//\", \"\")\n",
    "\n",
    "# Finally, lets split the breeds and modify out dataset\n",
    "breeds = breeds.apply(lambda x: pd.Series(x.split(\"/\")))\n",
    "breeds.columns = ['Breed', 'SecondaryBreed']\n",
    "\n",
    "dataset.drop('Breed', inplace=True, axis = 1)\n",
    "dataset = dataset.join(breeds)"
   ]
  },
  {
   "cell_type": "code",
   "execution_count": 8,
   "metadata": {
    "collapsed": false
   },
   "outputs": [
    {
     "data": {
      "text/html": [
       "<div>\n",
       "<table border=\"1\" class=\"dataframe\">\n",
       "  <thead>\n",
       "    <tr style=\"text-align: right;\">\n",
       "      <th></th>\n",
       "      <th>AgeuponOutcome</th>\n",
       "      <th>AnimalType</th>\n",
       "      <th>Color</th>\n",
       "      <th>DateTime</th>\n",
       "      <th>Name</th>\n",
       "      <th>OutcomeSubtype</th>\n",
       "      <th>OutcomeType</th>\n",
       "      <th>SexuponOutcome</th>\n",
       "      <th>Train</th>\n",
       "      <th>Mix</th>\n",
       "      <th>Breed</th>\n",
       "      <th>SecondaryBreed</th>\n",
       "    </tr>\n",
       "  </thead>\n",
       "  <tbody>\n",
       "    <tr>\n",
       "      <th>0</th>\n",
       "      <td>365.0</td>\n",
       "      <td>Dog</td>\n",
       "      <td>Brown/White</td>\n",
       "      <td>2014-02-12 18:22:00</td>\n",
       "      <td>Hambone</td>\n",
       "      <td>NaN</td>\n",
       "      <td>Return_to_owner</td>\n",
       "      <td>Neutered Male</td>\n",
       "      <td>True</td>\n",
       "      <td>True</td>\n",
       "      <td>Shetland Sheepdog</td>\n",
       "      <td>NaN</td>\n",
       "    </tr>\n",
       "    <tr>\n",
       "      <th>0</th>\n",
       "      <td>365.0</td>\n",
       "      <td>Dog</td>\n",
       "      <td>Brown/White</td>\n",
       "      <td>2014-02-12 18:22:00</td>\n",
       "      <td>Hambone</td>\n",
       "      <td>NaN</td>\n",
       "      <td>Return_to_owner</td>\n",
       "      <td>Neutered Male</td>\n",
       "      <td>True</td>\n",
       "      <td>True</td>\n",
       "      <td>Labrador Retriever</td>\n",
       "      <td>NaN</td>\n",
       "    </tr>\n",
       "    <tr>\n",
       "      <th>0</th>\n",
       "      <td>310.0</td>\n",
       "      <td>Dog</td>\n",
       "      <td>Red/White</td>\n",
       "      <td>2015-10-12 12:15:00</td>\n",
       "      <td>Summer</td>\n",
       "      <td>NaN</td>\n",
       "      <td>NaN</td>\n",
       "      <td>Intact Female</td>\n",
       "      <td>False</td>\n",
       "      <td>True</td>\n",
       "      <td>Shetland Sheepdog</td>\n",
       "      <td>NaN</td>\n",
       "    </tr>\n",
       "  </tbody>\n",
       "</table>\n",
       "</div>"
      ],
      "text/plain": [
       "   AgeuponOutcome AnimalType        Color             DateTime     Name  \\\n",
       "0           365.0        Dog  Brown/White  2014-02-12 18:22:00  Hambone   \n",
       "0           365.0        Dog  Brown/White  2014-02-12 18:22:00  Hambone   \n",
       "0           310.0        Dog    Red/White  2015-10-12 12:15:00   Summer   \n",
       "\n",
       "  OutcomeSubtype      OutcomeType SexuponOutcome  Train   Mix  \\\n",
       "0            NaN  Return_to_owner  Neutered Male   True  True   \n",
       "0            NaN  Return_to_owner  Neutered Male   True  True   \n",
       "0            NaN              NaN  Intact Female  False  True   \n",
       "\n",
       "                Breed SecondaryBreed  \n",
       "0   Shetland Sheepdog            NaN  \n",
       "0  Labrador Retriever            NaN  \n",
       "0   Shetland Sheepdog            NaN  "
      ]
     },
     "execution_count": 8,
     "metadata": {},
     "output_type": "execute_result"
    }
   ],
   "source": [
    "# dataset.reset_index(inplace=True)\n",
    "dataset.head(3)"
   ]
  },
  {
   "cell_type": "markdown",
   "metadata": {},
   "source": [
    "Now we split DateTime to several features"
   ]
  },
  {
   "cell_type": "code",
   "execution_count": 9,
   "metadata": {
    "collapsed": false
   },
   "outputs": [],
   "source": [
    "from datetime import *\n",
    "\n",
    "dates = dataset['DateTime'].apply(lambda x : datetime.strptime(x, \"%Y-%m-%d %H:%M:%S\"))\n",
    "\n",
    "def time_of_day(hour):\n",
    "    if hour > 7 and hour <= 11:\n",
    "        return \"morning\"\n",
    "    elif hour > 11 and hour <= 18:\n",
    "        return \"day\"\n",
    "    elif hour > 18 and hour <= 22:\n",
    "        return \"evening\"\n",
    "    else:\n",
    "        return \"night\"\n",
    "\n",
    "dataset[\"Year\"] = dates.apply(lambda x: x.year)\n",
    "dataset[\"Month\"] = dates.apply(lambda x: x.month)\n",
    "dataset[\"TimeOfDay\"] = dates.apply(lambda x: time_of_day(x.hour))\n",
    "dataset.drop(\"DateTime\", axis=1, inplace=True)"
   ]
  },
  {
   "cell_type": "markdown",
   "metadata": {},
   "source": [
    "Name can be converted to HasName categorical feature which will be more useful"
   ]
  },
  {
   "cell_type": "code",
   "execution_count": 10,
   "metadata": {
    "collapsed": false
   },
   "outputs": [],
   "source": [
    "dataset['HasName'] = dataset['Name'].isnull()\n",
    "dataset.drop(['Name', 'OutcomeSubtype'], axis=1, inplace=True)"
   ]
  },
  {
   "cell_type": "markdown",
   "metadata": {},
   "source": [
    "There will probaby be way to much features for colors, so we will transform them too"
   ]
  },
  {
   "cell_type": "code",
   "execution_count": 11,
   "metadata": {
    "collapsed": false
   },
   "outputs": [
    {
     "data": {
      "text/plain": [
       "(411,)"
      ]
     },
     "execution_count": 11,
     "metadata": {},
     "output_type": "execute_result"
    }
   ],
   "source": [
    "pd.value_counts(dataset['Color']).shape"
   ]
  },
  {
   "cell_type": "markdown",
   "metadata": {},
   "source": [
    "57 + 47 categorical features instead of 411, nice improvement"
   ]
  },
  {
   "cell_type": "code",
   "execution_count": 12,
   "metadata": {
    "collapsed": false
   },
   "outputs": [
    {
     "data": {
      "text/plain": [
       "(57, 47)"
      ]
     },
     "execution_count": 12,
     "metadata": {},
     "output_type": "execute_result"
    }
   ],
   "source": [
    "split_colors = pd.DataFrame(dataset['Color'].str.split('/').tolist(), columns=[\"Color1\", \"Color2\"])\n",
    "dataset.drop('Color', axis = 1, inplace=True)\n",
    "dataset = dataset.join(split_colors)\n",
    "\n",
    "len(split_colors['Color1'].unique()), len(split_colors['Color2'].unique())"
   ]
  },
  {
   "cell_type": "code",
   "execution_count": 13,
   "metadata": {
    "collapsed": false
   },
   "outputs": [],
   "source": [
    "sex = pd.DataFrame(dataset['SexuponOutcome'].str.split(\" \").tolist(), columns=[\"Sterialized\", \"Sex\"])\n",
    "sex.head(2)\n",
    "dataset = dataset.join(sex)\n",
    "dataset.drop('SexuponOutcome', axis = 1, inplace=True)"
   ]
  },
  {
   "cell_type": "markdown",
   "metadata": {},
   "source": [
    "Convert AnimalType to boolean feature"
   ]
  },
  {
   "cell_type": "code",
   "execution_count": 14,
   "metadata": {
    "collapsed": false
   },
   "outputs": [],
   "source": [
    "dataset['IsDog'] = dataset['AnimalType'].apply(lambda x: x == \"Dog\")\n",
    "dataset['IsMale'] = dataset['Sex'].apply(lambda x: x == \"Male\")\n",
    "dataset.drop(['AnimalType', 'Sex'], axis = 1, inplace = True)"
   ]
  },
  {
   "cell_type": "code",
   "execution_count": 15,
   "metadata": {
    "collapsed": false
   },
   "outputs": [
    {
     "data": {
      "text/html": [
       "<div>\n",
       "<table border=\"1\" class=\"dataframe\">\n",
       "  <thead>\n",
       "    <tr style=\"text-align: right;\">\n",
       "      <th></th>\n",
       "      <th>AgeuponOutcome</th>\n",
       "      <th>OutcomeType</th>\n",
       "      <th>Train</th>\n",
       "      <th>Mix</th>\n",
       "      <th>Year</th>\n",
       "      <th>Month</th>\n",
       "      <th>HasName</th>\n",
       "      <th>Breed_Abyssinian</th>\n",
       "      <th>Breed_Affenpinscher</th>\n",
       "      <th>Breed_Afghan Hound</th>\n",
       "      <th>...</th>\n",
       "      <th>SecondaryBreed_Yorkshire</th>\n",
       "      <th>SecondaryBreed_Yorkshire Terrier</th>\n",
       "      <th>Sterialized_Intact</th>\n",
       "      <th>Sterialized_Neutered</th>\n",
       "      <th>Sterialized_Spayed</th>\n",
       "      <th>Sterialized_Unknown</th>\n",
       "      <th>TimeOfDay_day</th>\n",
       "      <th>TimeOfDay_evening</th>\n",
       "      <th>TimeOfDay_morning</th>\n",
       "      <th>TimeOfDay_night</th>\n",
       "    </tr>\n",
       "  </thead>\n",
       "  <tbody>\n",
       "    <tr>\n",
       "      <th>0</th>\n",
       "      <td>365.0</td>\n",
       "      <td>Return_to_owner</td>\n",
       "      <td>True</td>\n",
       "      <td>True</td>\n",
       "      <td>2014</td>\n",
       "      <td>2</td>\n",
       "      <td>False</td>\n",
       "      <td>0.0</td>\n",
       "      <td>0.0</td>\n",
       "      <td>0.0</td>\n",
       "      <td>...</td>\n",
       "      <td>0.0</td>\n",
       "      <td>0.0</td>\n",
       "      <td>0.0</td>\n",
       "      <td>1.0</td>\n",
       "      <td>0.0</td>\n",
       "      <td>0.0</td>\n",
       "      <td>1.0</td>\n",
       "      <td>0.0</td>\n",
       "      <td>0.0</td>\n",
       "      <td>0.0</td>\n",
       "    </tr>\n",
       "    <tr>\n",
       "      <th>0</th>\n",
       "      <td>365.0</td>\n",
       "      <td>Return_to_owner</td>\n",
       "      <td>True</td>\n",
       "      <td>True</td>\n",
       "      <td>2014</td>\n",
       "      <td>2</td>\n",
       "      <td>False</td>\n",
       "      <td>0.0</td>\n",
       "      <td>0.0</td>\n",
       "      <td>0.0</td>\n",
       "      <td>...</td>\n",
       "      <td>0.0</td>\n",
       "      <td>0.0</td>\n",
       "      <td>0.0</td>\n",
       "      <td>1.0</td>\n",
       "      <td>0.0</td>\n",
       "      <td>0.0</td>\n",
       "      <td>1.0</td>\n",
       "      <td>0.0</td>\n",
       "      <td>0.0</td>\n",
       "      <td>0.0</td>\n",
       "    </tr>\n",
       "    <tr>\n",
       "      <th>0</th>\n",
       "      <td>310.0</td>\n",
       "      <td>NaN</td>\n",
       "      <td>False</td>\n",
       "      <td>True</td>\n",
       "      <td>2015</td>\n",
       "      <td>10</td>\n",
       "      <td>False</td>\n",
       "      <td>0.0</td>\n",
       "      <td>0.0</td>\n",
       "      <td>0.0</td>\n",
       "      <td>...</td>\n",
       "      <td>0.0</td>\n",
       "      <td>0.0</td>\n",
       "      <td>0.0</td>\n",
       "      <td>1.0</td>\n",
       "      <td>0.0</td>\n",
       "      <td>0.0</td>\n",
       "      <td>1.0</td>\n",
       "      <td>0.0</td>\n",
       "      <td>0.0</td>\n",
       "      <td>0.0</td>\n",
       "    </tr>\n",
       "  </tbody>\n",
       "</table>\n",
       "<p>3 rows × 504 columns</p>\n",
       "</div>"
      ],
      "text/plain": [
       "   AgeuponOutcome      OutcomeType  Train   Mix  Year  Month HasName  \\\n",
       "0           365.0  Return_to_owner   True  True  2014      2   False   \n",
       "0           365.0  Return_to_owner   True  True  2014      2   False   \n",
       "0           310.0              NaN  False  True  2015     10   False   \n",
       "\n",
       "   Breed_Abyssinian  Breed_Affenpinscher  Breed_Afghan Hound       ...         \\\n",
       "0               0.0                  0.0                 0.0       ...          \n",
       "0               0.0                  0.0                 0.0       ...          \n",
       "0               0.0                  0.0                 0.0       ...          \n",
       "\n",
       "   SecondaryBreed_Yorkshire  SecondaryBreed_Yorkshire Terrier  \\\n",
       "0                       0.0                               0.0   \n",
       "0                       0.0                               0.0   \n",
       "0                       0.0                               0.0   \n",
       "\n",
       "   Sterialized_Intact  Sterialized_Neutered  Sterialized_Spayed  \\\n",
       "0                 0.0                   1.0                 0.0   \n",
       "0                 0.0                   1.0                 0.0   \n",
       "0                 0.0                   1.0                 0.0   \n",
       "\n",
       "   Sterialized_Unknown  TimeOfDay_day  TimeOfDay_evening  TimeOfDay_morning  \\\n",
       "0                  0.0            1.0                0.0                0.0   \n",
       "0                  0.0            1.0                0.0                0.0   \n",
       "0                  0.0            1.0                0.0                0.0   \n",
       "\n",
       "   TimeOfDay_night  \n",
       "0              0.0  \n",
       "0              0.0  \n",
       "0              0.0  \n",
       "\n",
       "[3 rows x 504 columns]"
      ]
     },
     "execution_count": 15,
     "metadata": {},
     "output_type": "execute_result"
    }
   ],
   "source": [
    "cols = dataset.columns.difference([\"Name\", \"AgeuponOutcome\", \"OutcomeType\", \"index\", \"Mix\", \"Month\", \"Train\", \"Year\", \"level_0\", \"AnimalType\", \"HasName\"])\n",
    "dataset_d = pd.get_dummies(dataset, columns = cols)\n",
    "dataset_d.head(3)"
   ]
  },
  {
   "cell_type": "code",
   "execution_count": 18,
   "metadata": {
    "collapsed": false
   },
   "outputs": [
    {
     "data": {
      "text/html": [
       "<div>\n",
       "<table border=\"1\" class=\"dataframe\">\n",
       "  <thead>\n",
       "    <tr style=\"text-align: right;\">\n",
       "      <th></th>\n",
       "      <th>OutcomeType</th>\n",
       "    </tr>\n",
       "  </thead>\n",
       "  <tbody>\n",
       "    <tr>\n",
       "      <th>0</th>\n",
       "      <td>Return_to_owner</td>\n",
       "    </tr>\n",
       "  </tbody>\n",
       "</table>\n",
       "</div>"
      ],
      "text/plain": [
       "       OutcomeType\n",
       "0  Return_to_owner"
      ]
     },
     "execution_count": 18,
     "metadata": {},
     "output_type": "execute_result"
    }
   ],
   "source": [
    "# dataset_d.drop(['index'], axis=1, inplace=True)\n",
    "dataset_d.loc[:, dataset_d.columns.str.contains(\"OutcomeType\")].head(1)"
   ]
  },
  {
   "cell_type": "markdown",
   "metadata": {},
   "source": [
    "Now we fit XGBoost model on full dataset in order to perform feature selection"
   ]
  },
  {
   "cell_type": "code",
   "execution_count": 137,
   "metadata": {
    "collapsed": false
   },
   "outputs": [
    {
     "name": "stderr",
     "output_type": "stream",
     "text": [
      "/home/kdubovikov/opt/anaconda3/lib/python3.5/site-packages/ipykernel/__main__.py:8: SettingWithCopyWarning: \n",
      "A value is trying to be set on a copy of a slice from a DataFrame\n",
      "\n",
      "See the caveats in the documentation: http://pandas.pydata.org/pandas-docs/stable/indexing.html#indexing-view-versus-copy\n",
      "/home/kdubovikov/opt/anaconda3/lib/python3.5/site-packages/ipykernel/__main__.py:9: SettingWithCopyWarning: \n",
      "A value is trying to be set on a copy of a slice from a DataFrame\n",
      "\n",
      "See the caveats in the documentation: http://pandas.pydata.org/pandas-docs/stable/indexing.html#indexing-view-versus-copy\n"
     ]
    }
   ],
   "source": [
    "from sklearn.ensemble import ExtraTreesClassifier\n",
    "from sklearn.cross_validation import train_test_split\n",
    "from sklearn.cross_validation import StratifiedKFold\n",
    "\n",
    "train = dataset_d[dataset['Train'] == True]\n",
    "test = dataset_d[dataset['Train'] == False]\n",
    "\n",
    "train.drop('Train', axis=1, inplace=True)\n",
    "test.drop('Train', axis=1, inplace=True)\n",
    "\n",
    "train_x = train.loc[:, train.columns.difference([\"OutcomeType\"])]\n",
    "train_y = train.loc[:, \"OutcomeType\"]\n",
    "\n",
    "train_x, val_x, train_y, val_y = train_test_split(train_x, train_y, test_size=0.3)\n",
    "\n",
    "test_x = test.loc[:, test.columns.difference([\"OutcomeType\"])]"
   ]
  },
  {
   "cell_type": "markdown",
   "metadata": {},
   "source": [
    "Error estimates for the full model will help us not to throw off important features during selection "
   ]
  },
  {
   "cell_type": "code",
   "execution_count": 158,
   "metadata": {
    "collapsed": false
   },
   "outputs": [
    {
     "data": {
      "text/html": [
       "<div>\n",
       "<table border=\"1\" class=\"dataframe\">\n",
       "  <thead>\n",
       "    <tr style=\"text-align: right;\">\n",
       "      <th></th>\n",
       "      <th>test-merror-mean</th>\n",
       "      <th>test-merror-std</th>\n",
       "      <th>train-merror-mean</th>\n",
       "      <th>train-merror-std</th>\n",
       "    </tr>\n",
       "  </thead>\n",
       "  <tbody>\n",
       "    <tr>\n",
       "      <th>0</th>\n",
       "      <td>0.434001</td>\n",
       "      <td>0.005089</td>\n",
       "      <td>0.399392</td>\n",
       "      <td>0.002601</td>\n",
       "    </tr>\n",
       "    <tr>\n",
       "      <th>1</th>\n",
       "      <td>0.410597</td>\n",
       "      <td>0.013566</td>\n",
       "      <td>0.372926</td>\n",
       "      <td>0.010571</td>\n",
       "    </tr>\n",
       "    <tr>\n",
       "      <th>2</th>\n",
       "      <td>0.402771</td>\n",
       "      <td>0.017161</td>\n",
       "      <td>0.365550</td>\n",
       "      <td>0.016779</td>\n",
       "    </tr>\n",
       "    <tr>\n",
       "      <th>3</th>\n",
       "      <td>0.402771</td>\n",
       "      <td>0.015115</td>\n",
       "      <td>0.363977</td>\n",
       "      <td>0.017415</td>\n",
       "    </tr>\n",
       "    <tr>\n",
       "      <th>4</th>\n",
       "      <td>0.396518</td>\n",
       "      <td>0.014810</td>\n",
       "      <td>0.356759</td>\n",
       "      <td>0.015913</td>\n",
       "    </tr>\n",
       "    <tr>\n",
       "      <th>5</th>\n",
       "      <td>0.393372</td>\n",
       "      <td>0.015036</td>\n",
       "      <td>0.351320</td>\n",
       "      <td>0.014245</td>\n",
       "    </tr>\n",
       "    <tr>\n",
       "      <th>6</th>\n",
       "      <td>0.390039</td>\n",
       "      <td>0.013453</td>\n",
       "      <td>0.346274</td>\n",
       "      <td>0.009113</td>\n",
       "    </tr>\n",
       "    <tr>\n",
       "      <th>7</th>\n",
       "      <td>0.388729</td>\n",
       "      <td>0.012634</td>\n",
       "      <td>0.342988</td>\n",
       "      <td>0.005281</td>\n",
       "    </tr>\n",
       "    <tr>\n",
       "      <th>8</th>\n",
       "      <td>0.388354</td>\n",
       "      <td>0.010322</td>\n",
       "      <td>0.340573</td>\n",
       "      <td>0.003146</td>\n",
       "    </tr>\n",
       "    <tr>\n",
       "      <th>9</th>\n",
       "      <td>0.387830</td>\n",
       "      <td>0.009501</td>\n",
       "      <td>0.337559</td>\n",
       "      <td>0.002711</td>\n",
       "    </tr>\n",
       "  </tbody>\n",
       "</table>\n",
       "</div>"
      ],
      "text/plain": [
       "   test-merror-mean  test-merror-std  train-merror-mean  train-merror-std\n",
       "0          0.434001         0.005089           0.399392          0.002601\n",
       "1          0.410597         0.013566           0.372926          0.010571\n",
       "2          0.402771         0.017161           0.365550          0.016779\n",
       "3          0.402771         0.015115           0.363977          0.017415\n",
       "4          0.396518         0.014810           0.356759          0.015913\n",
       "5          0.393372         0.015036           0.351320          0.014245\n",
       "6          0.390039         0.013453           0.346274          0.009113\n",
       "7          0.388729         0.012634           0.342988          0.005281\n",
       "8          0.388354         0.010322           0.340573          0.003146\n",
       "9          0.387830         0.009501           0.337559          0.002711"
      ]
     },
     "execution_count": 158,
     "metadata": {},
     "output_type": "execute_result"
    }
   ],
   "source": [
    "import xgboost as xgb\n",
    "from sklearn import preprocessing\n",
    "from sklearn.preprocessing import LabelEncoder\n",
    "# xgb_param_dist = {\"n_estimators\"     : 150,\n",
    "#                   \"max_depth\"        : 8,\n",
    "#                   \"learning_rate\"    : 0.1,\n",
    "#                   \"colsample_bytree\" : 0.8}\n",
    "\n",
    "xgb_param_dist = {\"n_estimators\"     : 200,\n",
    "                  \"max_depth\"        : 10,\n",
    "                  \"learning_rate\"    : 0.08,\n",
    "                  \"colsample_bytree\" : 0.7,\n",
    "                  \"objective\"        : \"multi:softmax\",\n",
    "                  \"num_class\" : 5}\n",
    "\n",
    "# cf = xgb.XGBClassifier(**xgb_param_dist)\n",
    "enc = LabelEncoder()\n",
    "enc.fit(train_y)\n",
    "train_yt = enc.transform(train_y)\n",
    "xgb.cv(xgb_param_dist, xgb.DMatrix(train_x, train_yt), nfold=5)\n",
    "# %time cf.fit(train_x, train_y)"
   ]
  },
  {
   "cell_type": "markdown",
   "metadata": {},
   "source": [
    "Let's get feature importance map and see top 100 features"
   ]
  },
  {
   "cell_type": "code",
   "execution_count": 207,
   "metadata": {
    "collapsed": false
   },
   "outputs": [
    {
     "data": {
      "text/plain": [
       "array([16156, 12963,  6516,  3782,  3189,  2868,  2801,  2688,  2243,\n",
       "        2067,  1884,  1858,  1735,  1581,  1518,  1398,  1354,  1336,\n",
       "        1031,  1012,   999,   938,   877,   867,   858,   829,   805,\n",
       "         716,   664,   642,   622,   542,   508,   476,   475,   471,\n",
       "         469,   462,   439,   407,   371,   368,   363,   360,   330,\n",
       "         269,   252,   248,   246,   212,   208,   203,   203,   196,\n",
       "         194,   190,   183,   182,   180,   179,   163,   155,   150,\n",
       "         148,   148,   145,   137,   132,   131,   126,   125,   125,\n",
       "         125,   123,   121,   119,   117,   117,   116,   114,   113,\n",
       "         112,   109,   108,   106,   105,   102,   102,   100,    98,\n",
       "          97,    97,    95,    94,    93,    93,    93,    92,    90,    86])"
      ]
     },
     "execution_count": 207,
     "metadata": {},
     "output_type": "execute_result"
    }
   ],
   "source": [
    "fscores = cf.booster().get_fscore()\n",
    "np.sort(list(fscores.values()))[::-1][0:100]"
   ]
  },
  {
   "cell_type": "markdown",
   "metadata": {},
   "source": [
    "Perform feature selection based on a `fscore` threshold"
   ]
  },
  {
   "cell_type": "code",
   "execution_count": 208,
   "metadata": {
    "collapsed": false
   },
   "outputs": [
    {
     "name": "stdout",
     "output_type": "stream",
     "text": [
      "27.50% features left\n"
     ]
    }
   ],
   "source": [
    "filtered_fscores = {k: v for k, v in fscores.items() if v > 100}\n",
    "\n",
    "print(\"{0:1.2f}% features left\".format((len(filtered_fscores) / len(fscores)) * 100))\n",
    "# model = SelectFromModel(cf ,prefit=True)\n",
    "# train_xr = model.transform(train_x)"
   ]
  },
  {
   "cell_type": "markdown",
   "metadata": {},
   "source": [
    "Estimate the new model"
   ]
  },
  {
   "cell_type": "code",
   "execution_count": 209,
   "metadata": {
    "collapsed": false
   },
   "outputs": [
    {
     "data": {
      "text/html": [
       "<div>\n",
       "<table border=\"1\" class=\"dataframe\">\n",
       "  <thead>\n",
       "    <tr style=\"text-align: right;\">\n",
       "      <th></th>\n",
       "      <th>test-merror-mean</th>\n",
       "      <th>test-merror-std</th>\n",
       "      <th>train-merror-mean</th>\n",
       "      <th>train-merror-std</th>\n",
       "    </tr>\n",
       "  </thead>\n",
       "  <tbody>\n",
       "    <tr>\n",
       "      <th>0</th>\n",
       "      <td>0.411309</td>\n",
       "      <td>0.005203</td>\n",
       "      <td>0.372290</td>\n",
       "      <td>0.002794</td>\n",
       "    </tr>\n",
       "    <tr>\n",
       "      <th>1</th>\n",
       "      <td>0.402921</td>\n",
       "      <td>0.012241</td>\n",
       "      <td>0.362516</td>\n",
       "      <td>0.005214</td>\n",
       "    </tr>\n",
       "    <tr>\n",
       "      <th>2</th>\n",
       "      <td>0.397828</td>\n",
       "      <td>0.009148</td>\n",
       "      <td>0.355589</td>\n",
       "      <td>0.006363</td>\n",
       "    </tr>\n",
       "    <tr>\n",
       "      <th>3</th>\n",
       "      <td>0.397042</td>\n",
       "      <td>0.012291</td>\n",
       "      <td>0.354606</td>\n",
       "      <td>0.008428</td>\n",
       "    </tr>\n",
       "    <tr>\n",
       "      <th>4</th>\n",
       "      <td>0.392136</td>\n",
       "      <td>0.009479</td>\n",
       "      <td>0.347884</td>\n",
       "      <td>0.003765</td>\n",
       "    </tr>\n",
       "    <tr>\n",
       "      <th>5</th>\n",
       "      <td>0.391275</td>\n",
       "      <td>0.009725</td>\n",
       "      <td>0.347332</td>\n",
       "      <td>0.004423</td>\n",
       "    </tr>\n",
       "    <tr>\n",
       "      <th>6</th>\n",
       "      <td>0.389964</td>\n",
       "      <td>0.008976</td>\n",
       "      <td>0.344439</td>\n",
       "      <td>0.002510</td>\n",
       "    </tr>\n",
       "    <tr>\n",
       "      <th>7</th>\n",
       "      <td>0.389365</td>\n",
       "      <td>0.008314</td>\n",
       "      <td>0.343278</td>\n",
       "      <td>0.003083</td>\n",
       "    </tr>\n",
       "    <tr>\n",
       "      <th>8</th>\n",
       "      <td>0.387231</td>\n",
       "      <td>0.007982</td>\n",
       "      <td>0.340882</td>\n",
       "      <td>0.002833</td>\n",
       "    </tr>\n",
       "    <tr>\n",
       "      <th>9</th>\n",
       "      <td>0.387793</td>\n",
       "      <td>0.009118</td>\n",
       "      <td>0.338551</td>\n",
       "      <td>0.003041</td>\n",
       "    </tr>\n",
       "    <tr>\n",
       "      <th>10</th>\n",
       "      <td>0.386632</td>\n",
       "      <td>0.008622</td>\n",
       "      <td>0.336819</td>\n",
       "      <td>0.003727</td>\n",
       "    </tr>\n",
       "    <tr>\n",
       "      <th>11</th>\n",
       "      <td>0.385396</td>\n",
       "      <td>0.007105</td>\n",
       "      <td>0.334909</td>\n",
       "      <td>0.004569</td>\n",
       "    </tr>\n",
       "    <tr>\n",
       "      <th>12</th>\n",
       "      <td>0.385508</td>\n",
       "      <td>0.007407</td>\n",
       "      <td>0.333636</td>\n",
       "      <td>0.004241</td>\n",
       "    </tr>\n",
       "    <tr>\n",
       "      <th>13</th>\n",
       "      <td>0.384385</td>\n",
       "      <td>0.006589</td>\n",
       "      <td>0.332157</td>\n",
       "      <td>0.003967</td>\n",
       "    </tr>\n",
       "    <tr>\n",
       "      <th>14</th>\n",
       "      <td>0.383187</td>\n",
       "      <td>0.005774</td>\n",
       "      <td>0.330425</td>\n",
       "      <td>0.003763</td>\n",
       "    </tr>\n",
       "  </tbody>\n",
       "</table>\n",
       "</div>"
      ],
      "text/plain": [
       "    test-merror-mean  test-merror-std  train-merror-mean  train-merror-std\n",
       "0           0.411309         0.005203           0.372290          0.002794\n",
       "1           0.402921         0.012241           0.362516          0.005214\n",
       "2           0.397828         0.009148           0.355589          0.006363\n",
       "3           0.397042         0.012291           0.354606          0.008428\n",
       "4           0.392136         0.009479           0.347884          0.003765\n",
       "5           0.391275         0.009725           0.347332          0.004423\n",
       "6           0.389964         0.008976           0.344439          0.002510\n",
       "7           0.389365         0.008314           0.343278          0.003083\n",
       "8           0.387231         0.007982           0.340882          0.002833\n",
       "9           0.387793         0.009118           0.338551          0.003041\n",
       "10          0.386632         0.008622           0.336819          0.003727\n",
       "11          0.385396         0.007105           0.334909          0.004569\n",
       "12          0.385508         0.007407           0.333636          0.004241\n",
       "13          0.384385         0.006589           0.332157          0.003967\n",
       "14          0.383187         0.005774           0.330425          0.003763"
      ]
     },
     "execution_count": 209,
     "metadata": {},
     "output_type": "execute_result"
    }
   ],
   "source": [
    "filtered_cols = list(filtered_fscores.keys())\n",
    "train_xr = train_x[filtered_cols]\n",
    "val_xr = val_x[filtered_cols]\n",
    "\n",
    "# cfr = xgb.XGBClassifier(**xgb_param_dist)\n",
    "# cfr.fit(train_xr, train_y)\n",
    "xgb.cv(xgb_param_dist, xgb.DMatrix(train_xr, train_yt), 15, nfold=5)"
   ]
  },
  {
   "cell_type": "markdown",
   "metadata": {},
   "source": [
    "Now it is time for hyperparameter optimization"
   ]
  },
  {
   "cell_type": "code",
   "execution_count": 33,
   "metadata": {
    "collapsed": false
   },
   "outputs": [
    {
     "name": "stdout",
     "output_type": "stream",
     "text": [
      "The autoreload extension is already loaded. To reload it, use:\n",
      "  %reload_ext autoreload\n"
     ]
    },
    {
     "ename": "ValueError",
     "evalue": "X has a different shape than during fitting.",
     "output_type": "error",
     "traceback": [
      "\u001b[1;31m---------------------------------------------------------------------------\u001b[0m",
      "\u001b[1;31mValueError\u001b[0m                                Traceback (most recent call last)",
      "\u001b[1;32m<ipython-input-33-60b2946cf4da>\u001b[0m in \u001b[0;36m<module>\u001b[1;34m()\u001b[0m\n\u001b[0;32m      6\u001b[0m \u001b[0mcf\u001b[0m\u001b[1;33m.\u001b[0m\u001b[0mfeature_importances_\u001b[0m\u001b[1;33m\u001b[0m\u001b[0m\n\u001b[0;32m      7\u001b[0m \u001b[0mmodel\u001b[0m \u001b[1;33m=\u001b[0m \u001b[0mSelectFromModel\u001b[0m\u001b[1;33m(\u001b[0m\u001b[0mcf\u001b[0m\u001b[1;33m,\u001b[0m \u001b[0mprefit\u001b[0m\u001b[1;33m=\u001b[0m\u001b[1;32mTrue\u001b[0m\u001b[1;33m)\u001b[0m\u001b[1;33m\u001b[0m\u001b[0m\n\u001b[1;32m----> 8\u001b[1;33m \u001b[0mmodel\u001b[0m\u001b[1;33m.\u001b[0m\u001b[0mtransform\u001b[0m\u001b[1;33m(\u001b[0m\u001b[0mtrain_x\u001b[0m\u001b[1;33m)\u001b[0m\u001b[1;33m\u001b[0m\u001b[0m\n\u001b[0m",
      "\u001b[1;32m/home/kdubovikov/opt/anaconda3/lib/python3.5/site-packages/sklearn/feature_selection/base.py\u001b[0m in \u001b[0;36mtransform\u001b[1;34m(self, X)\u001b[0m\n\u001b[0;32m     81\u001b[0m             \u001b[1;32mreturn\u001b[0m \u001b[0mnp\u001b[0m\u001b[1;33m.\u001b[0m\u001b[0mempty\u001b[0m\u001b[1;33m(\u001b[0m\u001b[1;36m0\u001b[0m\u001b[1;33m)\u001b[0m\u001b[1;33m.\u001b[0m\u001b[0mreshape\u001b[0m\u001b[1;33m(\u001b[0m\u001b[1;33m(\u001b[0m\u001b[0mX\u001b[0m\u001b[1;33m.\u001b[0m\u001b[0mshape\u001b[0m\u001b[1;33m[\u001b[0m\u001b[1;36m0\u001b[0m\u001b[1;33m]\u001b[0m\u001b[1;33m,\u001b[0m \u001b[1;36m0\u001b[0m\u001b[1;33m)\u001b[0m\u001b[1;33m)\u001b[0m\u001b[1;33m\u001b[0m\u001b[0m\n\u001b[0;32m     82\u001b[0m         \u001b[1;32mif\u001b[0m \u001b[0mlen\u001b[0m\u001b[1;33m(\u001b[0m\u001b[0mmask\u001b[0m\u001b[1;33m)\u001b[0m \u001b[1;33m!=\u001b[0m \u001b[0mX\u001b[0m\u001b[1;33m.\u001b[0m\u001b[0mshape\u001b[0m\u001b[1;33m[\u001b[0m\u001b[1;36m1\u001b[0m\u001b[1;33m]\u001b[0m\u001b[1;33m:\u001b[0m\u001b[1;33m\u001b[0m\u001b[0m\n\u001b[1;32m---> 83\u001b[1;33m             \u001b[1;32mraise\u001b[0m \u001b[0mValueError\u001b[0m\u001b[1;33m(\u001b[0m\u001b[1;34m\"X has a different shape than during fitting.\"\u001b[0m\u001b[1;33m)\u001b[0m\u001b[1;33m\u001b[0m\u001b[0m\n\u001b[0m\u001b[0;32m     84\u001b[0m         \u001b[1;32mreturn\u001b[0m \u001b[0mX\u001b[0m\u001b[1;33m[\u001b[0m\u001b[1;33m:\u001b[0m\u001b[1;33m,\u001b[0m \u001b[0msafe_mask\u001b[0m\u001b[1;33m(\u001b[0m\u001b[0mX\u001b[0m\u001b[1;33m,\u001b[0m \u001b[0mmask\u001b[0m\u001b[1;33m)\u001b[0m\u001b[1;33m]\u001b[0m\u001b[1;33m\u001b[0m\u001b[0m\n\u001b[0;32m     85\u001b[0m \u001b[1;33m\u001b[0m\u001b[0m\n",
      "\u001b[1;31mValueError\u001b[0m: X has a different shape than during fitting."
     ]
    }
   ],
   "source": []
  }
 ],
 "metadata": {
  "kernelspec": {
   "display_name": "Python 3",
   "language": "python",
   "name": "python3"
  },
  "language_info": {
   "codemirror_mode": {
    "name": "ipython",
    "version": 3
   },
   "file_extension": ".py",
   "mimetype": "text/x-python",
   "name": "python",
   "nbconvert_exporter": "python",
   "pygments_lexer": "ipython3",
   "version": "3.5.1"
  }
 },
 "nbformat": 4,
 "nbformat_minor": 0
}
